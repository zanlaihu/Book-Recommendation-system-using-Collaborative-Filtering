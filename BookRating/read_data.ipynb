{
 "cells": [
  {
   "cell_type": "code",
   "execution_count": 92,
   "metadata": {},
   "outputs": [],
   "source": [
    "import pandas as pd, numpy as np, os, gc,\\\n",
    "matplotlib.pyplot as plt,\\\n",
    "seaborn as sb,re,warnings, calendar, sys\n",
    "from numpy import arange\n",
    "get_ipython().run_line_magic('matplotlib', 'inline')\n",
    "warnings.filterwarnings('ignore'); \n",
    "#np.set_printoptions(suppress=True); \n",
    "#pd.options.mode.chained_assignment = None\n",
    "#pd.set_option('display.float_format', lambda x: '%.3f' % x); \n",
    "#pd.options.display.max_rows = 15\n",
    "global directory; directory = '../BookRating'\n",
    "\n",
    "def files(): return os.listdir(directory)\n",
    "#Reading data\n",
    "#read_clean 对数据的type进行了转换\n",
    "#改变的（在BX数据中的）：user-id： object --> uint32; book_ratings:int64 --> int8\n",
    "#year-of-publication:object -->float64\n",
    "#还需要把IBSN（book id)转换为uint32 \n",
    "def read_clean(data):\n",
    "    data.columns = [str(x.lower().strip().replace(' ','_')) for x in data.columns]\n",
    "    seen = {}; columns = []; i = 0\n",
    "    for i,x in enumerate(data.columns):\n",
    "        if x in seen: columns.append(x+'_{}'.format(i))\n",
    "        else: columns.append(x)\n",
    "        seen[x] = None\n",
    "        \n",
    "    for x in data.columns[data.count()/len(data) < 0.0001]: del data[x];\n",
    "    gc.collect();\n",
    "    try: data = data.replace({'':np.nan,' ':np.nan});\n",
    "    except: pass;\n",
    "    \n",
    "    if len(data) < 10000: l = len(data);\n",
    "    else: l = 10000;\n",
    "    sample = data.sample(l);size = len(sample);\n",
    "    \n",
    "    for x in sample.columns:\n",
    "        ints = pd.to_numeric(sample[x], downcast = 'integer', errors = 'coerce')\n",
    "        if ints.count()/size > 0.97:\n",
    "            minimum = ints.min()\n",
    "            if minimum > 0: data[x] = pd.to_numeric(data[x], downcast = 'unsigned', errors = 'coerce')\n",
    "            else: data[x] = pd.to_numeric(data[x], downcast = 'integer', errors = 'coerce')\n",
    "        else:\n",
    "            floats = pd.to_numeric(sample[x], downcast = 'float', errors = 'coerce')\n",
    "            if floats.count()/size > 0.97: data[x] = pd.to_numeric(data[x], downcast = 'float', errors = 'coerce')\n",
    "            else:\n",
    "                dates = pd.to_datetime(sample[x], errors = 'coerce')\n",
    "                if dates.count()/size > 0.97: data[x] = pd.to_datetime(data[x], errors = 'coerce')\n",
    "    return data.reset_index(drop = True)\n",
    "\n",
    "def read(x):\n",
    "    '''Kaggle Reading in CSV files.\n",
    "    Just type read('file.csv'), and you'll get back a Table.'''\n",
    "    \n",
    "    file = '{}/{}'.format(directory,x)\n",
    "    try:     data = pd.read_csv(file, sep = \";\", encoding='cp1252')\n",
    "    except:  data = pd.read_csv('BX-Books.csv', sep=\";\", usecols=range(5), encoding ='iso-8859-1')\n",
    "    return read_clean(data)\n"
   ]
  },
  {
   "cell_type": "code",
   "execution_count": 93,
   "metadata": {},
   "outputs": [
    {
     "data": {
      "text/plain": [
       "['book_tags.csv',\n",
       " 'BX-Book-Ratings.csv',\n",
       " '.DS_Store',\n",
       " 'Untitled.ipynb',\n",
       " 'BX-Books.csv',\n",
       " 'tags.csv',\n",
       " 'ratings.csv',\n",
       " 'to_read.csv',\n",
       " 'books.csv',\n",
       " 'BX-Users.csv',\n",
       " '.ipynb_checkpoints',\n",
       " 'bookrating.ipynb',\n",
       " 'readdata.ipynb']"
      ]
     },
     "execution_count": 93,
     "metadata": {},
     "output_type": "execute_result"
    }
   ],
   "source": [
    "files()"
   ]
  },
  {
   "cell_type": "code",
   "execution_count": 94,
   "metadata": {},
   "outputs": [],
   "source": [
    "ratings = read('BX-Book-Ratings.csv')\n",
    "books = read('BX-Books.csv')\n",
    "users = read('BX-Users.csv')"
   ]
  },
  {
   "cell_type": "code",
   "execution_count": 95,
   "metadata": {},
   "outputs": [
    {
     "data": {
      "text/plain": [
       "user-id      uint32\n",
       "location     object\n",
       "age         float64\n",
       "dtype: object"
      ]
     },
     "execution_count": 95,
     "metadata": {},
     "output_type": "execute_result"
    }
   ],
   "source": [
    "users.dtypes"
   ]
  },
  {
   "cell_type": "code",
   "execution_count": 96,
   "metadata": {},
   "outputs": [
    {
     "data": {
      "text/plain": [
       "user-id        uint32\n",
       "isbn           object\n",
       "book-rating      int8\n",
       "dtype: object"
      ]
     },
     "execution_count": 96,
     "metadata": {},
     "output_type": "execute_result"
    }
   ],
   "source": [
    "ratings.dtypes"
   ]
  },
  {
   "cell_type": "code",
   "execution_count": 97,
   "metadata": {},
   "outputs": [
    {
     "data": {
      "text/plain": [
       "isbn                    object\n",
       "book-title              object\n",
       "book-author             object\n",
       "year-of-publication    float64\n",
       "publisher               object\n",
       "dtype: object"
      ]
     },
     "execution_count": 97,
     "metadata": {},
     "output_type": "execute_result"
    }
   ],
   "source": [
    "books.dtypes"
   ]
  },
  {
   "cell_type": "code",
   "execution_count": null,
   "metadata": {},
   "outputs": [],
   "source": []
  }
 ],
 "metadata": {
  "kernelspec": {
   "display_name": "Python 3",
   "language": "python",
   "name": "python3"
  },
  "language_info": {
   "codemirror_mode": {
    "name": "ipython",
    "version": 3
   },
   "file_extension": ".py",
   "mimetype": "text/x-python",
   "name": "python",
   "nbconvert_exporter": "python",
   "pygments_lexer": "ipython3",
   "version": "3.6.4"
  }
 },
 "nbformat": 4,
 "nbformat_minor": 2
}
