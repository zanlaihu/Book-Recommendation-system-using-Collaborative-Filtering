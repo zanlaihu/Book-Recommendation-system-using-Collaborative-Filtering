{
 "cells": [
  {
   "cell_type": "code",
   "execution_count": null,
   "metadata": {},
   "outputs": [],
   "source": [
    "from collections import defaultdict\n",
    "\n",
    "def get_top_n_for_user(predictions, userid, n):\n",
    "    i = 0\n",
    "    #i作为title_list的长度控制循环\n",
    "    m = int(n)\n",
    "    #m取n输入时的值\n",
    "    #只有当i作为title_list的长度为n的输入值的时候才停止\n",
    "    while i <= m:\n",
    "        title_list = []\n",
    "        # First map the predictions to each user.\n",
    "        #以下这个循环我不是很懂应不应该加在while循环里面\n",
    "        top_n = defaultdict(list)\n",
    "        for uid, iid, true_r, est, _ in predictions:\n",
    "            top_n[uid].append((iid, est))\n",
    "\n",
    "        # Then sort the predictions for each user and retrieve the k highest ones.\n",
    "        for uid, user_ratings in top_n.items():\n",
    "            user_ratings.sort(key=lambda x: x[1], reverse=True)\n",
    "            top_n[uid] = user_ratings[:n]\n",
    "\n",
    "        for j in top_n[userid]:\n",
    "            book, rating = j\n",
    "            title = User_Book_r.loc[User_Book_r.isbn==book].values.tolist()[0]\n",
    "            if title not in title_list:\n",
    "                title_list.append(title)\n",
    "            else:\n",
    "                #ISBN所指向的title与之前的重复,top-n往后扩充1个\n",
    "                n+=1\n",
    "        #update i 为上一个循环后list的长度\n",
    "        i = len(title_list)\n",
    "        \n",
    "    reading_list = defaultdict(list)    \n",
    "    for i in range(0,10):\n",
    "        reading_list[title_list[i]] = rating\n",
    "    return reading_list\n",
    "\n",
    "pred = model.test(testset)\n",
    "i = get_top_n_for_user(pred, 60337, n=10)\n"
   ]
  }
 ],
 "metadata": {
  "kernelspec": {
   "display_name": "Python 3",
   "language": "python",
   "name": "python3"
  },
  "language_info": {
   "codemirror_mode": {
    "name": "ipython",
    "version": 3
   },
   "file_extension": ".py",
   "mimetype": "text/x-python",
   "name": "python",
   "nbconvert_exporter": "python",
   "pygments_lexer": "ipython3",
   "version": "3.6.4"
  }
 },
 "nbformat": 4,
 "nbformat_minor": 2
}
