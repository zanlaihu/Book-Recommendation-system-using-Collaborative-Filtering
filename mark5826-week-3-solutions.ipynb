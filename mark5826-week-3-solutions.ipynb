{
 "cells": [
  {
   "cell_type": "markdown",
   "metadata": {
    "_uuid": "fd2ff2e67a33457a8313a9118fcada45fde4b686"
   },
   "source": [
    "[<h1>CLICK to SKIP BELOW CODE TO CONTENT</h1>](#Content)"
   ]
  },
  {
   "cell_type": "code",
   "execution_count": 12,
   "metadata": {
    "_cell_guid": "b1076dfc-b9ad-4769-8c92-a6c4dae69d19",
    "_uuid": "8f2839f25d086af736a60e9eeb907d3b93b6e0e5"
   },
   "outputs": [],
   "source": [
    "import pandas as pd, numpy as np, os, gc, matplotlib.pyplot as plt, seaborn as sb, re, warnings, calendar, sys\n",
    "from numpy import arange\n",
    "get_ipython().run_line_magic('matplotlib', 'inline')\n",
    "warnings.filterwarnings('ignore'); np.set_printoptions(suppress=True); pd.options.mode.chained_assignment = None\n",
    "pd.set_option('display.float_format', lambda x: '%.3f' % x); pd.options.display.max_rows = 15\n",
    "\n",
    "global directory; directory = '/'\n",
    "\n",
    "def files(): return os.listdir(directory)\n",
    "\n",
    "def read_clean(data):\n",
    "    data.columns = [str(x.lower().strip().replace(' ','_')) for x in data.columns]\n",
    "    seen = {}; columns = []; i = 0\n",
    "    for i,x in enumerate(data.columns):\n",
    "        if x in seen: columns.append(x+'_{}'.format(i))\n",
    "        else: columns.append(x)\n",
    "        seen[x] = None\n",
    "        \n",
    "    for x in data.columns[data.count()/len(data) < 0.0001]: del data[x];\n",
    "    gc.collect();\n",
    "    try: data = data.replace({'':np.nan,' ':np.nan});\n",
    "    except: pass;\n",
    "    \n",
    "    if len(data) < 10000: l = len(data);\n",
    "    else: l = 10000;\n",
    "    sample = data.sample(l);size = len(sample);\n",
    "    \n",
    "    for x in sample.columns:\n",
    "        ints = pd.to_numeric(sample[x], downcast = 'integer', errors = 'coerce')\n",
    "        if ints.count()/size > 0.97:\n",
    "            minimum = ints.min()\n",
    "            if minimum > 0: data[x] = pd.to_numeric(data[x], downcast = 'unsigned', errors = 'coerce')\n",
    "            else: data[x] = pd.to_numeric(data[x], downcast = 'integer', errors = 'coerce')\n",
    "        else:\n",
    "            floats = pd.to_numeric(sample[x], downcast = 'float', errors = 'coerce')\n",
    "            if floats.count()/size > 0.97: data[x] = pd.to_numeric(data[x], downcast = 'float', errors = 'coerce')\n",
    "            else:\n",
    "                dates = pd.to_datetime(sample[x], errors = 'coerce')\n",
    "                if dates.count()/size > 0.97: data[x] = pd.to_datetime(data[x], errors = 'coerce')\n",
    "    return data.reset_index(drop = True)\n",
    "\n",
    "def read(x):\n",
    "    '''Kaggle Reading in CSV files.\n",
    "    Just type read('file.csv'), and you'll get back a Table.'''\n",
    "    \n",
    "    file = '{}/{}'.format(directory,x)\n",
    "    try:     data = pd.read_csv(file)\n",
    "    except:  data = pd.read_csv(file, encoding = 'latin-1')\n",
    "    return read_clean(data)\n",
    "\n",
    "def tally(column, minimum = 0, top = None, graph = False, percent = False, multiple = False, lowercase = False, min_count = 1):\n",
    "    '''Provides a tally count of all values in a COLUMN.\n",
    "        1. minimum  =  (>0)          Least count of item to show.\n",
    "        2. top      =  (-1,>0)       Only show top N objects\n",
    "        3. graph    =  (False,True)  Show bar graph of results\n",
    "        4. percent  =  (False,>0)    Instead of showing counts, show percentages of total count\n",
    "        \n",
    "       multiple = False/True.\n",
    "       If True, counts and tallies objects in list of lists (Count Vectorizer)\n",
    "       \n",
    "       lowercase = True / False.\n",
    "       If True, lowers all text firsrt. So A == a\n",
    "       \n",
    "       min_count >= 1\n",
    "       If a column sum for tag has less than min_count, discard whole column\n",
    "    '''\n",
    "    if multiple == False:\n",
    "        counts = column.value_counts().astype('uint')\n",
    "        counts = counts[counts >= minimum][:top]\n",
    "        counts = pd.DataFrame(counts).reset_index()\n",
    "        counts.columns = [column.name, 'tally']\n",
    "        if percent: \n",
    "            counts['tally'] /= counts['tally'].sum()/100\n",
    "            counts['tally'] = counts['tally']\n",
    "        if graph:\n",
    "            C = counts[::-1]\n",
    "            C.plot.barh(x = column.name, y = 'tally', legend = False); plt.show();\n",
    "        return counts\n",
    "    else:\n",
    "        from sklearn.feature_extraction.text import CountVectorizer\n",
    "        column = column.fillna('<NAN>')\n",
    "        if type(column.iloc[0]) != list: column = column.apply(lambda x: [x])\n",
    "        counter = CountVectorizer(lowercase = lowercase, tokenizer = lambda x: x, dtype = np.uint32, min_df = min_count)\n",
    "        counter.fit(column)\n",
    "        counts = pd.DataFrame(counter.transform(column).toarray())\n",
    "        counts.columns = [column.name+'_('+str(x)+')' for x in counter.get_feature_names()]\n",
    "        return counts\n",
    "    \n",
    "    \n",
    "def describe(data):\n",
    "    '''Provides an overview of your data\n",
    "        1. dtype    =  Column type\n",
    "        2. missing% =  % of the column that is missing\n",
    "        3. nunique  =  Number of unique values in column\n",
    "        4. top3     =  Top 3 most occuring items\n",
    "        5. min      =  Minimum value. If not a number column, then empty\n",
    "        6. mean     =  Average value. If not a number column, then empty\n",
    "        7. median   =  Middle value. So sort all numbers, and get middle. If not a number column, then empty\n",
    "        8. max      =  Maximum value. If not a number column, then empty\n",
    "        9. sample   =  Random 2 elements\n",
    "        10. name    =  Column Name\n",
    "    '''\n",
    "    dtypes = dtype(data)\n",
    "    length = len(data)\n",
    "    missing = ((length - data.count())/length*100)\n",
    "    \n",
    "    N = [];    most3 = []\n",
    "    for dt,col in zip(dtypes,data.columns):\n",
    "        if dt != 'datetime':\n",
    "            U = data[col].value_counts()\n",
    "            N.append(len(U))\n",
    "            if U.values[0] > 1: most3.append(U.index[:3].tolist())\n",
    "            else: most3.append([]);\n",
    "        else: N.append(0); most3.append([]);\n",
    "            \n",
    "    df = pd.concat([dtypes, missing], 1)\n",
    "    df.columns = ['dtype','missing%']\n",
    "    df['nunique'] = N; df['top3'] = most3\n",
    "    \n",
    "    numbers = list(data.columns[df['dtype'].isin(('uint','int','float'))])\n",
    "    df['min'] = data.min()\n",
    "    df['mean'] = data[numbers].mean()\n",
    "    df['median'] = data[numbers].median()\n",
    "    df['max'] = data.max()\n",
    "    df['sample'] = data.apply(lambda x : x.sample(2).values.tolist())\n",
    "    df['name'] = list(data.columns)\n",
    "    return df.sort_values(['missing%', 'nunique', 'dtype'], ascending = [False, False, True]).reset_index(drop = True)\n",
    "\n",
    "\n",
    "def Checker(x):\n",
    "    if type(x) is pd.DataFrame: return 0\n",
    "    elif type(x) is pd.Series: return 1\n",
    "    else: return -1\n",
    "\n",
    "def columns(data): return list(data.columns)\n",
    "def rows(data): return list(data.index)\n",
    "def index(data): return list(data.index)\n",
    "def head(data, n = 10): return data.head(n)\n",
    "def tail(data, n = 10): return data.tail(n)\n",
    "def sample(data, n = 10): return data.sample(n)\n",
    "\n",
    "def dtype(data):\n",
    "    what = Checker(data)\n",
    "    if what == 0:\n",
    "        dtypes = data.dtypes.astype('str')\n",
    "        dtypes = dtypes.str.split(r'\\d').str[0]\n",
    "    else:\n",
    "        dtypes = str(data.dtypes)\n",
    "        dtypes = re.split(r'\\d', dtypes)[0]\n",
    "    return dtypes\n",
    "\n",
    "def mean(data):\n",
    "    what = Checker(data)\n",
    "    _dt = ('uint','int','float')\n",
    "    if what == 0:\n",
    "        dtypes = dtype(data)\n",
    "        numbers = data.columns[dtypes.isin(_dt)]\n",
    "        return data[numbers].mean()\n",
    "    elif what == 1:\n",
    "        dtypes = dtype(data)\n",
    "        if dtypes in _dt: return data.mean()\n",
    "        else: return np.nan\n",
    "    else:\n",
    "        try:     return np.nanmean(data)\n",
    "        except:  return np.nan\n",
    "        \n",
    "def std(data):\n",
    "    what = Checker(data)\n",
    "    _dt = ('uint','int','float')\n",
    "    if what == 0:\n",
    "        dtypes = dtype(data)\n",
    "        numbers = data.columns[dtypes.isin(_dt)]\n",
    "        return data[numbers].std()\n",
    "    elif what == 1:\n",
    "        dtypes = dtype(data)\n",
    "        if dtypes in _dt: return data.std()\n",
    "        else: return np.nan\n",
    "    else:\n",
    "        try:     return np.nanstd(data)\n",
    "        except:  return np.nan\n",
    "        \n",
    "def var(data):\n",
    "    what = Checker(data)\n",
    "    _dt = ('uint','int','float')\n",
    "    if what == 0:\n",
    "        dtypes = dtype(data)\n",
    "        numbers = data.columns[dtypes.isin(_dt)]\n",
    "        return data[numbers].var()\n",
    "    elif what == 1:\n",
    "        dtypes = dtype(data)\n",
    "        if dtypes in _dt: return data.var()\n",
    "        else: return np.nan\n",
    "    else:\n",
    "        try:     return np.nanvar(data)\n",
    "        except:  return np.nan\n",
    "        \n",
    "def log(data):\n",
    "    what = Checker(data)\n",
    "    _dt = ('uint','int','float')\n",
    "    if what == 0:\n",
    "        dtypes = dtype(data)\n",
    "        numbers = data.columns[dtypes.isin(_dt)]\n",
    "        x = np.log(data[numbers])\n",
    "        x[np.isinf(x)] = np.nan\n",
    "        return pd.Series(x)\n",
    "    elif what == 1:\n",
    "        dtypes = dtype(data)\n",
    "        if dtypes in _dt:\n",
    "            x = np.log(data)\n",
    "            x[np.isinf(x)] = np.nan\n",
    "            return x\n",
    "        else: return np.nan\n",
    "    else:\n",
    "        try:\n",
    "            x = np.log(data)\n",
    "            x[np.isinf(x)] = np.nan\n",
    "            return x\n",
    "        except:  return np.nan\n",
    "        \n",
    "def median(data):\n",
    "    what = Checker(data)\n",
    "    _dt = ('uint','int','float')\n",
    "    if what == 0:\n",
    "        dtypes = dtype(data)\n",
    "        numbers = data.columns[dtypes.isin(_dt)]\n",
    "        return data[numbers].median()\n",
    "    elif what == 1:\n",
    "        dtypes = dtype(data)\n",
    "        if dtypes in _dt: return data.median()\n",
    "        else: return np.nan\n",
    "    else:\n",
    "        try:     return np.nanmedian(data)\n",
    "        except:  return np.nan\n",
    "        \n",
    "def minimum(data):\n",
    "    what = Checker(data)\n",
    "    if what == 0:      return data.min()\n",
    "    elif what == 1:    return data.min()\n",
    "    else:              return np.min(data)\n",
    "        \n",
    "def maximum(data):\n",
    "    what = Checker(data)\n",
    "    if what == 0:      return data.max()\n",
    "    elif what == 1:    return data.max()\n",
    "    else:              return np.max(data)\n",
    "    \n",
    "def missing(data):\n",
    "    what = Checker(data)\n",
    "    if what >= 0:      return pd.isnull(data)\n",
    "    else:              return np.isnan(data)\n",
    "    \n",
    "def count(data):\n",
    "    what = Checker(data)\n",
    "    if what >= 0:      return data.count()\n",
    "    else:              return len(data)\n",
    "    \n",
    "def nunique(data):\n",
    "    what = Checker(data)\n",
    "    if what >= 0:      return data.nunique()\n",
    "    else:              return len(np.unique(data))\n",
    "    \n",
    "def unique(data):\n",
    "    if type(data) is pd.DataFrame:\n",
    "        uniques = []\n",
    "        for x in data.columns:\n",
    "            uniques.append(data[x].unique())\n",
    "        df = pd.Series(uniques)\n",
    "        df.index = data.columns\n",
    "        return df\n",
    "    elif type(data) is pd.Series: return data.unique()\n",
    "    else:              return np.unique(data)\n",
    "    \n",
    "def total(data):\n",
    "    what = Checker(data)\n",
    "    _dt = ('uint','int','float')\n",
    "    if what == 0:\n",
    "        dtypes = dtype(data)\n",
    "        numbers = data.columns[dtypes.isin(_dt)]\n",
    "        return data[numbers].sum()\n",
    "    elif what == 1:\n",
    "        dtypes = dtype(data)\n",
    "        if dtypes in _dt: return data.sum()\n",
    "        else: return np.nan\n",
    "    else:\n",
    "        try:     return np.nansum(data)\n",
    "        except:  return np.nan\n",
    "        \n",
    "def time_number(date): return hours(date)+minutes(date)/60+seconds(date)/60**2\n",
    "def hours_minutes(date): return hours(date)+minutes(date)/60\n",
    "def hours(date): return date.dt.hour\n",
    "def minutes(date): return date.dt.minute\n",
    "def seconds(date): return date.dt.second\n",
    "def month(date): return date.dt.month\n",
    "def year(date): return date.dt.year\n",
    "def day(date): return date.dt.day\n",
    "def weekday(date): return date.dt.weekday\n",
    "def leap_year(date): return year(date).apply(calendar.isleap)\n",
    "def date_number(date): return year(date)+month(date)/12+day(date)/(365+leap_year(date)*1)\n",
    "def year_month(date): return year(date)+month(date)/12\n",
    "\n",
    "def hcat(*columns):\n",
    "    cols = []\n",
    "    for c in columns:\n",
    "        if c is None: continue;\n",
    "        if type(c) in (list, tuple): \n",
    "            for i in c:\n",
    "                if type(i) not in (pd.DataFrame, pd.Series): cols.append(pd.Series(i))\n",
    "                else: cols.append(i)\n",
    "        elif type(c) not in (pd.DataFrame, pd.Series): cols.append(pd.Series(c))\n",
    "        else: cols.append(c)\n",
    "    return pd.concat(cols, 1)\n",
    "\n",
    "def vcat(*columns):\n",
    "    cols = []\n",
    "    for c in columns:\n",
    "        if c is None: continue;\n",
    "        if type(c) in (list, tuple): \n",
    "            for i in c:\n",
    "                if type(i) not in (pd.DataFrame, pd.Series): cols.append(pd.Series(i))\n",
    "                else: cols.append(i)\n",
    "        elif type(c) not in (pd.DataFrame, pd.Series): cols.append(pd.Series(c))\n",
    "        else: cols.append(c)\n",
    "    return pd.concat(cols, 0)\n",
    "\n",
    "def melt(data, columns):\n",
    "    '''Converts a dataset into long form'''\n",
    "    return data.melt(id_vars = columns)\n",
    "    \n",
    "def tabulate(*columns, method = 'count'):\n",
    "    '''Splits columns into chunks, and counts the occurences in each group.\n",
    "        Remember - tabulate works on the LAST column passed.\n",
    "        Options:\n",
    "            1. count            = Pure Count in group\n",
    "            2. count_percent    = Percentage of Count in group\n",
    "            3. mean             = Mean in group\n",
    "            4. median           = Median in group\n",
    "            5. max              = Max in group\n",
    "            6. min              = Min in group\n",
    "            7. sum_percent      = Percentage of Sum in group\n",
    "        Eg:\n",
    "            Apple | 1\n",
    "            ---------\n",
    "            Orange| 3\n",
    "            ---------\n",
    "            Apple | 2\n",
    "            ---------\n",
    "        Becomes:\n",
    "            Apple | 1 | 1\n",
    "            -------------\n",
    "                  | 2 | 1\n",
    "            -------------\n",
    "            Orange| 3 | 1\n",
    "        \n",
    "        NOTE --------\n",
    "            method can be a list of multiple options.\n",
    "    '''\n",
    "    if type(method) in (list, tuple):\n",
    "        xs = []\n",
    "        for x in method:\n",
    "            g = tabulate(*columns, method = x)\n",
    "            xs.append(g)\n",
    "        xs = hcat(xs)\n",
    "        xs = xs.T.drop_duplicates().T\n",
    "        return read_clean(xs)        \n",
    "    else:\n",
    "        def percent(series):\n",
    "            counts = series.count()\n",
    "            return counts.sum()\n",
    "\n",
    "        data = hcat(*columns)\n",
    "        columns = data.columns.tolist()\n",
    "\n",
    "        if method in ('count', 'count_percent'):\n",
    "            groups = data.groupby(data.columns.tolist()).apply(lambda x: x[data.columns[-1]].count())\n",
    "\n",
    "            if method == 'count_percent':\n",
    "                groups = groups.reset_index()\n",
    "                groups.columns = list(groups.columns[:-1])+['Group_Count']\n",
    "                right = data.groupby(columns[:-1]).count().reset_index()\n",
    "                right.columns = list(right.columns[:-1])+['Group_Sum']\n",
    "\n",
    "                groups = pd.merge(left = groups, right = right, left_on = columns[:-1], right_on = columns[:-1])\n",
    "                groups['Percent%'] = groups['Group_Count']/groups['Group_Sum']*100\n",
    "                groups = groups[columns+['Percent%']]\n",
    "                return groups\n",
    "\n",
    "        elif method == 'mean': groups = data.groupby(data.columns.tolist()[:-1]).apply(lambda x: x[data.columns[-1]].mean())\n",
    "        elif method == 'median': groups = data.groupby(data.columns.tolist()[:-1]).apply(lambda x: x[data.columns[-1]].median())\n",
    "        elif method == 'max': groups = data.groupby(data.columns.tolist()[:-1]).apply(lambda x: x[data.columns[-1]].max())\n",
    "        elif method == 'min': groups = data.groupby(data.columns.tolist()[:-1]).apply(lambda x: x[data.columns[-1]].min())\n",
    "        elif method == 'sum_percent':\n",
    "            groups = data.groupby(data.columns.tolist()[:-1]).apply(lambda x: x[data.columns[-1]].sum()).reset_index()\n",
    "            groups.columns = list(groups.columns[:-1])+['Group_Count']\n",
    "            right = data.groupby(columns[:-1]).sum().reset_index()\n",
    "            right.columns = list(right.columns[:-1])+['Group_Sum']\n",
    "\n",
    "            groups = pd.merge(left = groups, right = right, left_on = columns[:-1], right_on = columns[:-1])\n",
    "            groups['Sum%'] = groups['Group_Count']/groups['Group_Sum']*100\n",
    "            groups = groups[cols+['Sum%']]\n",
    "            return groups\n",
    "        else:\n",
    "            print('Method does not exist. Please choose count, count_percent, mean, median, max, min, sum_percent.'); return None;\n",
    "        #except: print('Method = {}'.format(method)+' cannot work on Object, Non-Numerical data. Choose count.'); return None;\n",
    "\n",
    "        groups = pd.DataFrame(groups)\n",
    "        groups.columns = [method]\n",
    "        groups.reset_index(inplace = True)\n",
    "        return groups\n",
    "\n",
    "\n",
    "def sort(data, by = None, how = 'ascending', inplace = False):\n",
    "    ''' how can be 'ascending' or 'descending' or 'a' or 'd'\n",
    "    It can also be a list for each sorted column.\n",
    "    '''\n",
    "    replacer = {'ascending':True,'a':True,'descending':False,'d':False}\n",
    "    if by is None and type(data) is pd.Series:\n",
    "        try:    x = replacer[how]\n",
    "        except: print(\"how can be 'ascending' or 'descending' or 'a' or 'd'\"); return None;\n",
    "        return data.sort_values(ascending = x, inplace = inplace)\n",
    "    elif type(how) is not list:\n",
    "        try:    how = replacer[how]\n",
    "        except: print(\"how can be 'ascending' or 'descending' or 'a' or 'd'\"); return None;\n",
    "    else:\n",
    "        for x in how: \n",
    "            try:    x = replacer[x]\n",
    "            except: print(\"how can be 'ascending' or 'descending' or 'a' or 'd'\"); return None;\n",
    "    return data.sort_values(by, ascending = how, inplace = inplace)\n",
    "\n",
    "def keep(data, what, inplace = False):\n",
    "    '''Keeps data in a column if it's wanted.\n",
    "    Everything else is filled with NANs'''\n",
    "    if type(what) not in (list,tuple,np.array,np.ndarray): what = [what]\n",
    "    need = data.isin(what)\n",
    "    if inplace: \n",
    "        df = data\n",
    "        df.loc[~need] = np.nan\n",
    "    else: \n",
    "        df = data.copy()\n",
    "        df.loc[~need] = np.nan\n",
    "        return df\n",
    "\n",
    "def remove(data, what, inplace = False):\n",
    "    '''Deletes data in a column if it's not wanted.\n",
    "    Everything else is filled with NANs'''\n",
    "    if type(what) not in (list,tuple): what = [what]\n",
    "    need = data.isin(what)\n",
    "    if inplace: \n",
    "        df = data\n",
    "        df.loc[need] = np.nan\n",
    "    else: \n",
    "        df = data.copy()\n",
    "        df.loc[need] = np.nan\n",
    "        return df\n",
    "    \n",
    "    \n",
    "def ternary(data, condition, true, false = np.nan, inplace = False):\n",
    "    '''C style ternary operator on column.\n",
    "    Condition executes on column, and if true, is filled with some value.\n",
    "    If false, then replaced with other value. Default false is NAN.'''\n",
    "    try:\n",
    "        execute = 'data {}'.format(condition)\n",
    "        series = eval(execute)\n",
    "        try: series = series.map({True:true, False:false})\n",
    "        except: series = series.replace({True:true, False:false})\n",
    "        return series\n",
    "    except: print('Ternary accepts conditions where strings must be enclosed.\\nSo == USD not allowed. == \"USD\" allowed.'); return False;\n",
    "\n",
    "    \n",
    "def locate(data, column):\n",
    "    '''Use ternary to get result and then filter with notnull'''\n",
    "    if dtype(column) == 'bool': return data.loc[column]\n",
    "    return data.loc[column.notnull()]\n",
    "    \n",
    "    \n",
    "def query(data, column = None, condition = None):\n",
    "    '''Querying data based on conditions'''\n",
    "    if type(column) is str:\n",
    "        cond = f'data[\"{column}\"]{condition}'\n",
    "    else:\n",
    "        cond = f'column{condition}'\n",
    "    return data.loc[eval(cond)]\n",
    "\n",
    "\n",
    "def keep_top(x, n = 5):\n",
    "    '''Keeps top n (after tallying) in a column'''\n",
    "    df = keep(x, tally(x)[x.name][:n].values)\n",
    "    return df\n",
    "\n",
    "def keep_bot(x, n = 5):\n",
    "    '''Keeps bottom n (after tallying) in a column'''\n",
    "    df = keep(x, tally(x)[x.name][:-n].values)\n",
    "    return df\n",
    "\n",
    "\n",
    "def remove_outlier(x, method = 'iqr', range = 1.5):\n",
    "    '''Removes outliers in column with methods:\n",
    "        1. mean     =    meean+range (normally 3.5)\n",
    "        2. median   =    median+range (normally 3.5)\n",
    "        3. iqr      =    iqr+range (normally 1.5)\n",
    "    '''\n",
    "    i = x.copy()\n",
    "    if method == 'iqr':\n",
    "        first = np.nanpercentile(x, 0.25)\n",
    "        third = np.nanpercentile(x, 0.75)\n",
    "        iqr = third-first\n",
    "        i[(i > third+iqr*range) | (i < first-iqr*range)] = np.nan\n",
    "    else:\n",
    "        if method == 'mean': mu = np.nanmean(x)\n",
    "        else: mu = np.nanmedian(x)\n",
    "        std = np.nanstd(x)\n",
    "        i[(i > mu+std*range) | (i < mu-std*range)] = np.nan\n",
    "    return i\n",
    "\n",
    "\n",
    "def cut(x, bins = 5, method = 'range'):\n",
    "    '''Cut continuous column into parts.\n",
    "        Method options:\n",
    "            1. range\n",
    "            2. quantile (number of quantile cuts)'''\n",
    "    if method == 'range': return pd.cut(x, bins = bins, duplicates = 'drop')\n",
    "    else: return pd.qcut(x, q = bins, duplicates = 'drop')\n",
    "    \n",
    "    \n",
    "def plot(x, y = None, colour = None, column = None, data = None, size = 5, top = 10, wrap = 4, \n",
    "         subset = 5000, method = 'mean', quantile = True, bins = 10,\n",
    "         style = 'lineplot', logx = False, logy = False, logc = False, power = 1):\n",
    "    '''Plotting function using seaborn and matplotlib\n",
    "        Options:\n",
    "        x, y, colour, column, subset, style, method\n",
    "        \n",
    "        Plot styles:\n",
    "            1. boxplot\n",
    "            2. barplot\n",
    "            3. tallyplot (counting number of appearances)\n",
    "            4. violinplot (boxplot just fancier)\n",
    "            5. lineplot (mean line plot)\n",
    "            6. histogram\n",
    "            7. scatterplot (X, Y must be numeric --> dates will be converted)\n",
    "            8. bivariate (X, Y must be numeric --> dates will be converted)\n",
    "            9. heatmap (X, Y will be converted into categorical automatically --> bins)\n",
    "            10. regplot (X, Y must be numeric --> dates will be converted)\n",
    "    '''\n",
    "    if type(x) in (np.array,np.ndarray): x = pd.Series(x); x.name = 'x';\n",
    "    if type(y) in (np.array,np.ndarray): y = pd.Series(y); y.name = 'y';\n",
    "    if type(column) in (np.array,np.ndarray): column = pd.Series(column); column.name = 'column';\n",
    "    if type(colour) in (np.array,np.ndarray): colour = pd.Series(colour); colour.name = 'colour';\n",
    "        \n",
    "    if type(x) == pd.Series: \n",
    "        data = pd.DataFrame(x); x = x.name\n",
    "        if type(x) is not str:\n",
    "            data.columns = [str(x)]\n",
    "            x = str(x)\n",
    "    if method == 'mean': estimator = np.nanmean\n",
    "    elif method == 'median': estimator = np.nanmedian\n",
    "    elif method == 'min': estimator = np.min\n",
    "    elif method == 'max': estimator = np.max\n",
    "    else: print('Wrong method. Allowed = mean, median, min, max'); return False;\n",
    "    #----------------------------------------------------------\n",
    "    sb.set(rc={'figure.figsize':(size*1.75,size)})\n",
    "    dtypes = {'x':None,'y':None,'c':None,'col':None}\n",
    "    names = {'x':None,'y':None,'c':None,'col':None}\n",
    "    xlim = None\n",
    "    #----------------------------------------------------------\n",
    "    if data is not None:\n",
    "        if type(x) is str: x = data[x];\n",
    "        if type(y) is str: y = data[y]; \n",
    "        if type(colour) is str: colour = data[colour]; \n",
    "        if type(column) is str: column = data[column]; \n",
    "    if type(x) is str: print('Please specify data.'); return False;\n",
    "    #----------------------------------------------------------\n",
    "    if x is not None:\n",
    "        dtypes['x'] = dtype(x); names['x'] = x.name\n",
    "        if dtypes['x'] == 'object': x = keep_top(x, n = top)\n",
    "        elif dtypes['x'] == 'datetime': x = date_number(x)\n",
    "        if logx and dtype(x) != 'object': x = log(x)\n",
    "    if y is not None: \n",
    "        dtypes['y'] = dtype(y); names['y'] = y.name\n",
    "        if dtypes['y'] == 'object': y = keep_top(y, n = top)\n",
    "        elif dtypes['y'] == 'datetime': y = date_number(y)\n",
    "        if logy and dtype(y) != 'object': y = log(y)\n",
    "    if colour is not None:\n",
    "        dtypes['c'] = dtype(colour); names['c'] = colour.name\n",
    "        if dtypes['c'] == 'object': colour = keep_top(colour, n = top)\n",
    "        elif dtypes['c'] == 'datetime': colour = date_number(colour)\n",
    "        if logc and dtype(colour) != 'object': colour = log(colour)\n",
    "    if column is not None:\n",
    "        dtypes['col'] = dtype(column); names['col'] = column.name\n",
    "        if dtypes['col'] == 'object': column = keep_top(column, n = top)\n",
    "        elif dtypes['col'] == 'datetime': column = date_number(column)\n",
    "    #----------------------------------------------------------\n",
    "    df = hcat(x, y, colour, column)\n",
    "    if subset > len(df): subset = len(df)\n",
    "    df = sample(df, subset)\n",
    "    #----------------------------------------------------------\n",
    "    if column is not None:\n",
    "        if dtype(df[names['col']]) not in ('object', 'uint',' int') and nunique(df[names['col']]) > top: \n",
    "            if quantile: df[names['col']] = cut(df[names['col']], bins = bins, method = 'quantile')\n",
    "            else: df[names['col']] = cut(df[names['col']], bins = bins, method = 'range')\n",
    "    \n",
    "    try: df.sort_values(names['y'], inplace = True);\n",
    "    except: pass;\n",
    "    #----------------------------------------------------------\n",
    "    replace = {'boxplot':'box', 'barplot':'bar', 'tallyplot':'count', 'violinplot':'violin', \n",
    "               'lineplot': 'point', 'histogram':'lv'}\n",
    "    \n",
    "    if style == 'histogram' and y is None:\n",
    "        plot = sb.distplot(df[names['x']].loc[df[names['x']].notnull()], bins = bins)\n",
    "    elif style == 'lineplot' and y is None:\n",
    "        plot = plt.plot(df[names['x']]);\n",
    "        plt.show(); return;\n",
    "    elif style == 'barplot' and y is None:\n",
    "        plot = df.sort_values(names['x']).plot.bar();\n",
    "        plt.show(); return;\n",
    "    elif style in replace.keys():\n",
    "        if dtype(df[names['x']]) not in ('object', 'uint',' int') and nunique(df[names['x']]) > top: \n",
    "            if quantile: df[names['x']] = cut(df[names['x']], bins = bins, method = 'quantile')\n",
    "            else: df[names['x']] = cut(df[names['x']], bins = bins, method = 'range')\n",
    "        \n",
    "        if names['col'] is not None:\n",
    "            plot = sb.factorplot(x = names['x'], y = names['y'], hue = names['c'], data = df, kind = replace[style], col = names['col'],\n",
    "                             n_boot = 1, size = size, estimator = estimator, col_wrap = wrap)\n",
    "        else:\n",
    "            plot = sb.factorplot(x = names['x'], y = names['y'], hue = names['c'], data = df, kind = replace[style], col = names['col'],\n",
    "                             n_boot = 1, size = size, estimator = estimator)\n",
    "            \n",
    "        for ax in plot.axes.flatten(): \n",
    "            for tick in ax.get_xticklabels(): \n",
    "                tick.set(rotation=90)\n",
    "    \n",
    "    elif style == 'heatmap':\n",
    "        if dtype(df[names['x']]) != 'object'and nunique(df[names['x']]) > top:\n",
    "            if quantile: df[names['x']] = cut(df[names['x']], bins = bins, method = 'quantile')\n",
    "            else: df[names['x']] = cut(df[names['x']], bins = bins, method = 'range')\n",
    "                \n",
    "        if dtype(df[names['y']]) != 'object'and nunique(df[names['y']]) > top:\n",
    "            if quantile: df[names['y']] = cut(df[names['y']], bins = bins, method = 'quantile')\n",
    "            else: df[names['y']] = cut(df[names['y']], bins = bins, method = 'range')     \n",
    "\n",
    "        df = tabulate(df[names['x']], df[names['y']]).pivot(index = names['x'], columns = names['y'], values = 'count')\n",
    "        plot = sb.heatmap(df, cmap=\"YlGnBu\")\n",
    "\n",
    "        \n",
    "    elif dtype(df[names['x']]) == 'object' or dtype(df[names['y']]) == 'object':\n",
    "            print('{} can only take X = number and Y = number.'.format(style)); return False;\n",
    "        \n",
    "    elif style  in ('regplot', 'scatterplot'):\n",
    "        if column is None: col_wrap = None\n",
    "        else: col_wrap = wrap\n",
    "        if style == 'regplot': reg = True\n",
    "        else: reg = False\n",
    "        \n",
    "        plot = sb.lmplot(x = names['x'], y = names['y'], hue = names['c'], data = df, col = names['col'],\n",
    "                             n_boot = 2, size = size, ci = None, scatter_kws={\"s\": 50,'alpha':0.5},\n",
    "                        col_wrap = col_wrap, truncate = True, fit_reg = reg, order = power)\n",
    "        plot.set_xticklabels(rotation=90)\n",
    "        \n",
    "    elif style == 'bivariate':\n",
    "        plot = sb.jointplot(x = names['x'], y = names['y'], data = df, dropna = True, size = size, kind = 'reg',\n",
    "                           scatter_kws={\"s\": 50,'alpha':0.5}, space = 0)\n",
    "    plt.show()\n",
    "    \n",
    "def remove(x, what):\n",
    "    return replace(x, what, '')\n",
    "    \n",
    "def notnull(data, loc = None):\n",
    "    '''Returns the items that are not null in a column / dataframe'''\n",
    "    if loc is not None:\n",
    "        return data.loc[loc.notnull()]\n",
    "    else:\n",
    "        return data.loc[data.notnull().sum(1) == data.shape[1]]\n",
    "    \n",
    "    \n",
    "def exclude(data, col):\n",
    "    '''Only returns a dataframe where the columns in col are not included'''\n",
    "    if type(col) is str: col = [col]\n",
    "    columns = list(data.columns)\n",
    "    leave = list(set(columns) - set(col))\n",
    "    return data[leave]\n",
    "\n",
    "################### -----------------------------------------------------------------#######################\n",
    "#Recommendation Systems\n",
    "def pivot(index, columns, values):\n",
    "    '''Creates a table where rows = users, columns = items, and cells = values / ratings'''\n",
    "    from scipy.sparse import dok_matrix\n",
    "    S = dok_matrix((nunique(index), nunique(columns)), dtype=np.float32)\n",
    "    \n",
    "    mins = np.abs(np.min(values))+1\n",
    "    indexM = {}\n",
    "    for i,x in enumerate(unique(index)): indexM[x] = i;\n",
    "    columnsM = {}\n",
    "    for i,x in enumerate(unique(columns)): columnsM[x] = i;\n",
    "        \n",
    "    for i,c,v in zip(index, columns, values+mins): S[indexM[i],columnsM[c]] = v;\n",
    "    \n",
    "    S = S.toarray(); S[S == 0] = np.nan; S -= mins\n",
    "    S = pd.DataFrame(S)\n",
    "    S.index = indexM.keys(); S.columns = columnsM.keys();\n",
    "    return S\n",
    "\n",
    "def row_operation(data, method = 'sum'):\n",
    "    '''Apply a function to a row\n",
    "        Allowed functions:\n",
    "            1. sum\n",
    "            2. median\n",
    "            3. mean\n",
    "            4. max\n",
    "            5. min\n",
    "            6. count\n",
    "            7. count_percent\n",
    "            8. sum_percent\n",
    "            9. mean_zero         (Mean but zeroes arent counted)\n",
    "            10. count_zero       (Count but zeroes arent counted)\n",
    "        Own functions are also allowed.\n",
    "    '''\n",
    "    if method in ('sum','median','mean','max','min','count'):\n",
    "        x = eval('data.{}(1)'.format(method))\n",
    "    elif method in ('count_percent', 'sum_percent'):\n",
    "        x = eval('data.{}(1)'.format(method.split('_')[0]))\n",
    "        x /= x.sum()\n",
    "        x *= 100\n",
    "    elif method in ('mean_zero', 'count_zero'):\n",
    "        df = data.copy()\n",
    "        df[df == 0] = np.nan\n",
    "        x = eval('df.{}(1)'.format(method.split('_')[0]))\n",
    "    else: return data.apply(method, axis = 1)\n",
    "    x.name = 'row_operation'\n",
    "    return x\n",
    "\n",
    "\n",
    "def col_operation(data, method = 'sum'):\n",
    "    '''Apply a function to a column\n",
    "        Allowed functions:\n",
    "            1. sum\n",
    "            2. median\n",
    "            3. mean\n",
    "            4. max\n",
    "            5. min\n",
    "            6. count\n",
    "            7. count_percent\n",
    "            8. sum_percent\n",
    "            9. mean_zero         (Mean but zeroes arent counted)\n",
    "            10. count_zero       (Count but zeroes arent counted)\n",
    "        Own functions are also allowed.\n",
    "        '''\n",
    "    if method in ('sum','median','mean','max','min','count'):\n",
    "        x = eval('data.{}(0)'.format(method))\n",
    "    elif method in ('count_percent', 'sum_percent'):\n",
    "        x = eval('data.{}(0)'.format(method.split('_')[0]))\n",
    "        x /= x.sum()\n",
    "        x *= 100\n",
    "    elif method in ('mean_zero', 'count_zero'):\n",
    "        df = data.copy()\n",
    "        df[df == 0] = np.nan\n",
    "        x = eval('df.{}(0)'.format(method.split('_')[0]))\n",
    "    else: return data.apply(method, axis = 0)\n",
    "    x.name = 'col_operation'\n",
    "    return x\n",
    "\n",
    "    \n",
    "def random(obj, n = 1, p = None):\n",
    "    if p is not None:\n",
    "        if type(p) is pd.Series: p = p.values\n",
    "        if p.sum() > 2: p /= 100\n",
    "    return list(np.random.choice(obj, size = n, replace = False, p = p))\n",
    "\n",
    "def row(data, n): return data.loc[n]\n",
    "\n",
    "def distances(source, target):\n",
    "    '''Returns all distances between target and source (L2)'''\n",
    "    Y = np.tile(target.values, (source.shape[0],1))\n",
    "    nans = np.isnan(Y)\n",
    "    X = source.values; X[np.isnan(X)] = 0;\n",
    "    Y[nans] = 0;\n",
    "    diff = X - Y;\n",
    "    diff[nans] = 0;\n",
    "    d = np.linalg.norm(diff, axis = 1)\n",
    "    j = pd.Series(d)\n",
    "    j.index = source.index\n",
    "    return j"
   ]
  },
  {
   "cell_type": "markdown",
   "metadata": {
    "_uuid": "8921b3dd206bf1de365883417668babcfb89d5da"
   },
   "source": [
    "<a id='Content'></a>\n",
    "<h1> 1. Reading Data </h1>"
   ]
  },
  {
   "cell_type": "markdown",
   "metadata": {
    "_uuid": "95af6a51143df98db31e0e8f9d992fe12aa6c9ac"
   },
   "source": [
    "First, check the files in the database:"
   ]
  },
  {
   "cell_type": "code",
   "execution_count": 14,
   "metadata": {
    "_cell_guid": "79c7e3d0-c299-4dcb-8224-4455121ee9b0",
    "_uuid": "d629ff2d2480ee46fbb7e2d37f6b5fab8052498a"
   },
   "outputs": [
    {
     "data": {
      "text/plain": [
       "['.HFS+ Private Directory Data\\r',\n",
       " 'home',\n",
       " 'usr',\n",
       " '.Spotlight-V100',\n",
       " 'net',\n",
       " '.DS_Store',\n",
       " '.PKInstallSandboxManager',\n",
       " '.PKInstallSandboxManager-SystemSoftware',\n",
       " 'bin',\n",
       " 'installer.failurerequests',\n",
       " 'Network',\n",
       " 'sbin',\n",
       " '.file',\n",
       " 'etc',\n",
       " 'var',\n",
       " 'Library',\n",
       " 'System',\n",
       " '.OSInstallerMessages',\n",
       " '.fseventsd',\n",
       " 'private',\n",
       " '.DocumentRevisions-V100',\n",
       " '.vol',\n",
       " 'Users',\n",
       " 'Applications',\n",
       " 'opt',\n",
       " 'dev',\n",
       " 'Volumes',\n",
       " 'anaconda3',\n",
       " 'tmp',\n",
       " 'cores']"
      ]
     },
     "execution_count": 14,
     "metadata": {},
     "output_type": "execute_result"
    }
   ],
   "source": [
    "files()"
   ]
  },
  {
   "cell_type": "code",
   "execution_count": 95,
   "metadata": {},
   "outputs": [],
   "source": [
    "# dir_name = 'goodbooks/'\n",
    "ratings = pd.read_csv('BX/Ratings.csv')\n",
    "\n",
    "# import pandas as pd, numpy as np, os, gc, matplotlib.pyplot as plt, re, warnings, calendar, sys\n",
    "# from numpy import arange\n",
    "# import codecs\n",
    "# with codecs.open('goodbooks/BX-Book-Ratings.csv',encoding='utf-8', errors='ignore') as csvfile:\n",
    "#     ratings = pd.read_csv(csvfile,sep = ';')"
   ]
  },
  {
   "cell_type": "markdown",
   "metadata": {
    "_uuid": "988dcc9b2e6e203096eb7b8b981ed16704ac4391"
   },
   "source": [
    "Ratings.csv is the list of all ratings of a user / book"
   ]
  },
  {
   "cell_type": "code",
   "execution_count": 70,
   "metadata": {
    "_uuid": "1f8d7763ca21332decd7dadbe55bc4c38663c7e8"
   },
   "outputs": [
    {
     "ename": "FileNotFoundError",
     "evalue": "[Errno 2] File b'//ratings.csv' does not exist: b'//ratings.csv'",
     "output_type": "error",
     "traceback": [
      "\u001b[0;31m---------------------------------------------------------------------------\u001b[0m",
      "\u001b[0;31mFileNotFoundError\u001b[0m                         Traceback (most recent call last)",
      "\u001b[0;32m<ipython-input-12-f8450ebdc7a5>\u001b[0m in \u001b[0;36mread\u001b[0;34m(x)\u001b[0m\n\u001b[1;32m     46\u001b[0m     \u001b[0mfile\u001b[0m \u001b[0;34m=\u001b[0m \u001b[0;34m'{}/{}'\u001b[0m\u001b[0;34m.\u001b[0m\u001b[0mformat\u001b[0m\u001b[0;34m(\u001b[0m\u001b[0mdirectory\u001b[0m\u001b[0;34m,\u001b[0m\u001b[0mx\u001b[0m\u001b[0;34m)\u001b[0m\u001b[0;34m\u001b[0m\u001b[0;34m\u001b[0m\u001b[0m\n\u001b[0;32m---> 47\u001b[0;31m     \u001b[0;32mtry\u001b[0m\u001b[0;34m:\u001b[0m     \u001b[0mdata\u001b[0m \u001b[0;34m=\u001b[0m \u001b[0mpd\u001b[0m\u001b[0;34m.\u001b[0m\u001b[0mread_csv\u001b[0m\u001b[0;34m(\u001b[0m\u001b[0mfile\u001b[0m\u001b[0;34m)\u001b[0m\u001b[0;34m\u001b[0m\u001b[0;34m\u001b[0m\u001b[0m\n\u001b[0m\u001b[1;32m     48\u001b[0m     \u001b[0;32mexcept\u001b[0m\u001b[0;34m:\u001b[0m  \u001b[0mdata\u001b[0m \u001b[0;34m=\u001b[0m \u001b[0mpd\u001b[0m\u001b[0;34m.\u001b[0m\u001b[0mread_csv\u001b[0m\u001b[0;34m(\u001b[0m\u001b[0mfile\u001b[0m\u001b[0;34m,\u001b[0m \u001b[0mencoding\u001b[0m \u001b[0;34m=\u001b[0m \u001b[0;34m'latin-1'\u001b[0m\u001b[0;34m)\u001b[0m\u001b[0;34m\u001b[0m\u001b[0;34m\u001b[0m\u001b[0m\n",
      "\u001b[0;32m/anaconda3/lib/python3.7/site-packages/pandas/io/parsers.py\u001b[0m in \u001b[0;36mparser_f\u001b[0;34m(filepath_or_buffer, sep, delimiter, header, names, index_col, usecols, squeeze, prefix, mangle_dupe_cols, dtype, engine, converters, true_values, false_values, skipinitialspace, skiprows, skipfooter, nrows, na_values, keep_default_na, na_filter, verbose, skip_blank_lines, parse_dates, infer_datetime_format, keep_date_col, date_parser, dayfirst, iterator, chunksize, compression, thousands, decimal, lineterminator, quotechar, quoting, doublequote, escapechar, comment, encoding, dialect, tupleize_cols, error_bad_lines, warn_bad_lines, delim_whitespace, low_memory, memory_map, float_precision)\u001b[0m\n\u001b[1;32m    701\u001b[0m \u001b[0;34m\u001b[0m\u001b[0m\n\u001b[0;32m--> 702\u001b[0;31m         \u001b[0;32mreturn\u001b[0m \u001b[0m_read\u001b[0m\u001b[0;34m(\u001b[0m\u001b[0mfilepath_or_buffer\u001b[0m\u001b[0;34m,\u001b[0m \u001b[0mkwds\u001b[0m\u001b[0;34m)\u001b[0m\u001b[0;34m\u001b[0m\u001b[0;34m\u001b[0m\u001b[0m\n\u001b[0m\u001b[1;32m    703\u001b[0m \u001b[0;34m\u001b[0m\u001b[0m\n",
      "\u001b[0;32m/anaconda3/lib/python3.7/site-packages/pandas/io/parsers.py\u001b[0m in \u001b[0;36m_read\u001b[0;34m(filepath_or_buffer, kwds)\u001b[0m\n\u001b[1;32m    428\u001b[0m     \u001b[0;31m# Create the parser.\u001b[0m\u001b[0;34m\u001b[0m\u001b[0;34m\u001b[0m\u001b[0;34m\u001b[0m\u001b[0m\n\u001b[0;32m--> 429\u001b[0;31m     \u001b[0mparser\u001b[0m \u001b[0;34m=\u001b[0m \u001b[0mTextFileReader\u001b[0m\u001b[0;34m(\u001b[0m\u001b[0mfilepath_or_buffer\u001b[0m\u001b[0;34m,\u001b[0m \u001b[0;34m**\u001b[0m\u001b[0mkwds\u001b[0m\u001b[0;34m)\u001b[0m\u001b[0;34m\u001b[0m\u001b[0;34m\u001b[0m\u001b[0m\n\u001b[0m\u001b[1;32m    430\u001b[0m \u001b[0;34m\u001b[0m\u001b[0m\n",
      "\u001b[0;32m/anaconda3/lib/python3.7/site-packages/pandas/io/parsers.py\u001b[0m in \u001b[0;36m__init__\u001b[0;34m(self, f, engine, **kwds)\u001b[0m\n\u001b[1;32m    894\u001b[0m \u001b[0;34m\u001b[0m\u001b[0m\n\u001b[0;32m--> 895\u001b[0;31m         \u001b[0mself\u001b[0m\u001b[0;34m.\u001b[0m\u001b[0m_make_engine\u001b[0m\u001b[0;34m(\u001b[0m\u001b[0mself\u001b[0m\u001b[0;34m.\u001b[0m\u001b[0mengine\u001b[0m\u001b[0;34m)\u001b[0m\u001b[0;34m\u001b[0m\u001b[0;34m\u001b[0m\u001b[0m\n\u001b[0m\u001b[1;32m    896\u001b[0m \u001b[0;34m\u001b[0m\u001b[0m\n",
      "\u001b[0;32m/anaconda3/lib/python3.7/site-packages/pandas/io/parsers.py\u001b[0m in \u001b[0;36m_make_engine\u001b[0;34m(self, engine)\u001b[0m\n\u001b[1;32m   1121\u001b[0m         \u001b[0;32mif\u001b[0m \u001b[0mengine\u001b[0m \u001b[0;34m==\u001b[0m \u001b[0;34m'c'\u001b[0m\u001b[0;34m:\u001b[0m\u001b[0;34m\u001b[0m\u001b[0;34m\u001b[0m\u001b[0m\n\u001b[0;32m-> 1122\u001b[0;31m             \u001b[0mself\u001b[0m\u001b[0;34m.\u001b[0m\u001b[0m_engine\u001b[0m \u001b[0;34m=\u001b[0m \u001b[0mCParserWrapper\u001b[0m\u001b[0;34m(\u001b[0m\u001b[0mself\u001b[0m\u001b[0;34m.\u001b[0m\u001b[0mf\u001b[0m\u001b[0;34m,\u001b[0m \u001b[0;34m**\u001b[0m\u001b[0mself\u001b[0m\u001b[0;34m.\u001b[0m\u001b[0moptions\u001b[0m\u001b[0;34m)\u001b[0m\u001b[0;34m\u001b[0m\u001b[0;34m\u001b[0m\u001b[0m\n\u001b[0m\u001b[1;32m   1123\u001b[0m         \u001b[0;32melse\u001b[0m\u001b[0;34m:\u001b[0m\u001b[0;34m\u001b[0m\u001b[0;34m\u001b[0m\u001b[0m\n",
      "\u001b[0;32m/anaconda3/lib/python3.7/site-packages/pandas/io/parsers.py\u001b[0m in \u001b[0;36m__init__\u001b[0;34m(self, src, **kwds)\u001b[0m\n\u001b[1;32m   1852\u001b[0m \u001b[0;34m\u001b[0m\u001b[0m\n\u001b[0;32m-> 1853\u001b[0;31m         \u001b[0mself\u001b[0m\u001b[0;34m.\u001b[0m\u001b[0m_reader\u001b[0m \u001b[0;34m=\u001b[0m \u001b[0mparsers\u001b[0m\u001b[0;34m.\u001b[0m\u001b[0mTextReader\u001b[0m\u001b[0;34m(\u001b[0m\u001b[0msrc\u001b[0m\u001b[0;34m,\u001b[0m \u001b[0;34m**\u001b[0m\u001b[0mkwds\u001b[0m\u001b[0;34m)\u001b[0m\u001b[0;34m\u001b[0m\u001b[0;34m\u001b[0m\u001b[0m\n\u001b[0m\u001b[1;32m   1854\u001b[0m         \u001b[0mself\u001b[0m\u001b[0;34m.\u001b[0m\u001b[0munnamed_cols\u001b[0m \u001b[0;34m=\u001b[0m \u001b[0mself\u001b[0m\u001b[0;34m.\u001b[0m\u001b[0m_reader\u001b[0m\u001b[0;34m.\u001b[0m\u001b[0munnamed_cols\u001b[0m\u001b[0;34m\u001b[0m\u001b[0;34m\u001b[0m\u001b[0m\n",
      "\u001b[0;32mpandas/_libs/parsers.pyx\u001b[0m in \u001b[0;36mpandas._libs.parsers.TextReader.__cinit__\u001b[0;34m()\u001b[0m\n",
      "\u001b[0;32mpandas/_libs/parsers.pyx\u001b[0m in \u001b[0;36mpandas._libs.parsers.TextReader._setup_parser_source\u001b[0;34m()\u001b[0m\n",
      "\u001b[0;31mFileNotFoundError\u001b[0m: [Errno 2] File b'//ratings.csv' does not exist: b'//ratings.csv'",
      "\nDuring handling of the above exception, another exception occurred:\n",
      "\u001b[0;31mFileNotFoundError\u001b[0m                         Traceback (most recent call last)",
      "\u001b[0;32m<ipython-input-70-28d4a98b82eb>\u001b[0m in \u001b[0;36m<module>\u001b[0;34m\u001b[0m\n\u001b[0;32m----> 1\u001b[0;31m \u001b[0mratings\u001b[0m \u001b[0;34m=\u001b[0m \u001b[0mread\u001b[0m\u001b[0;34m(\u001b[0m\u001b[0;34m'ratings.csv'\u001b[0m\u001b[0;34m)\u001b[0m\u001b[0;34m\u001b[0m\u001b[0;34m\u001b[0m\u001b[0m\n\u001b[0m",
      "\u001b[0;32m<ipython-input-12-f8450ebdc7a5>\u001b[0m in \u001b[0;36mread\u001b[0;34m(x)\u001b[0m\n\u001b[1;32m     46\u001b[0m     \u001b[0mfile\u001b[0m \u001b[0;34m=\u001b[0m \u001b[0;34m'{}/{}'\u001b[0m\u001b[0;34m.\u001b[0m\u001b[0mformat\u001b[0m\u001b[0;34m(\u001b[0m\u001b[0mdirectory\u001b[0m\u001b[0;34m,\u001b[0m\u001b[0mx\u001b[0m\u001b[0;34m)\u001b[0m\u001b[0;34m\u001b[0m\u001b[0;34m\u001b[0m\u001b[0m\n\u001b[1;32m     47\u001b[0m     \u001b[0;32mtry\u001b[0m\u001b[0;34m:\u001b[0m     \u001b[0mdata\u001b[0m \u001b[0;34m=\u001b[0m \u001b[0mpd\u001b[0m\u001b[0;34m.\u001b[0m\u001b[0mread_csv\u001b[0m\u001b[0;34m(\u001b[0m\u001b[0mfile\u001b[0m\u001b[0;34m)\u001b[0m\u001b[0;34m\u001b[0m\u001b[0;34m\u001b[0m\u001b[0m\n\u001b[0;32m---> 48\u001b[0;31m     \u001b[0;32mexcept\u001b[0m\u001b[0;34m:\u001b[0m  \u001b[0mdata\u001b[0m \u001b[0;34m=\u001b[0m \u001b[0mpd\u001b[0m\u001b[0;34m.\u001b[0m\u001b[0mread_csv\u001b[0m\u001b[0;34m(\u001b[0m\u001b[0mfile\u001b[0m\u001b[0;34m,\u001b[0m \u001b[0mencoding\u001b[0m \u001b[0;34m=\u001b[0m \u001b[0;34m'latin-1'\u001b[0m\u001b[0;34m)\u001b[0m\u001b[0;34m\u001b[0m\u001b[0;34m\u001b[0m\u001b[0m\n\u001b[0m\u001b[1;32m     49\u001b[0m     \u001b[0;32mreturn\u001b[0m \u001b[0mread_clean\u001b[0m\u001b[0;34m(\u001b[0m\u001b[0mdata\u001b[0m\u001b[0;34m)\u001b[0m\u001b[0;34m\u001b[0m\u001b[0;34m\u001b[0m\u001b[0m\n\u001b[1;32m     50\u001b[0m \u001b[0;34m\u001b[0m\u001b[0m\n",
      "\u001b[0;32m/anaconda3/lib/python3.7/site-packages/pandas/io/parsers.py\u001b[0m in \u001b[0;36mparser_f\u001b[0;34m(filepath_or_buffer, sep, delimiter, header, names, index_col, usecols, squeeze, prefix, mangle_dupe_cols, dtype, engine, converters, true_values, false_values, skipinitialspace, skiprows, skipfooter, nrows, na_values, keep_default_na, na_filter, verbose, skip_blank_lines, parse_dates, infer_datetime_format, keep_date_col, date_parser, dayfirst, iterator, chunksize, compression, thousands, decimal, lineterminator, quotechar, quoting, doublequote, escapechar, comment, encoding, dialect, tupleize_cols, error_bad_lines, warn_bad_lines, delim_whitespace, low_memory, memory_map, float_precision)\u001b[0m\n\u001b[1;32m    700\u001b[0m                     skip_blank_lines=skip_blank_lines)\n\u001b[1;32m    701\u001b[0m \u001b[0;34m\u001b[0m\u001b[0m\n\u001b[0;32m--> 702\u001b[0;31m         \u001b[0;32mreturn\u001b[0m \u001b[0m_read\u001b[0m\u001b[0;34m(\u001b[0m\u001b[0mfilepath_or_buffer\u001b[0m\u001b[0;34m,\u001b[0m \u001b[0mkwds\u001b[0m\u001b[0;34m)\u001b[0m\u001b[0;34m\u001b[0m\u001b[0;34m\u001b[0m\u001b[0m\n\u001b[0m\u001b[1;32m    703\u001b[0m \u001b[0;34m\u001b[0m\u001b[0m\n\u001b[1;32m    704\u001b[0m     \u001b[0mparser_f\u001b[0m\u001b[0;34m.\u001b[0m\u001b[0m__name__\u001b[0m \u001b[0;34m=\u001b[0m \u001b[0mname\u001b[0m\u001b[0;34m\u001b[0m\u001b[0;34m\u001b[0m\u001b[0m\n",
      "\u001b[0;32m/anaconda3/lib/python3.7/site-packages/pandas/io/parsers.py\u001b[0m in \u001b[0;36m_read\u001b[0;34m(filepath_or_buffer, kwds)\u001b[0m\n\u001b[1;32m    427\u001b[0m \u001b[0;34m\u001b[0m\u001b[0m\n\u001b[1;32m    428\u001b[0m     \u001b[0;31m# Create the parser.\u001b[0m\u001b[0;34m\u001b[0m\u001b[0;34m\u001b[0m\u001b[0;34m\u001b[0m\u001b[0m\n\u001b[0;32m--> 429\u001b[0;31m     \u001b[0mparser\u001b[0m \u001b[0;34m=\u001b[0m \u001b[0mTextFileReader\u001b[0m\u001b[0;34m(\u001b[0m\u001b[0mfilepath_or_buffer\u001b[0m\u001b[0;34m,\u001b[0m \u001b[0;34m**\u001b[0m\u001b[0mkwds\u001b[0m\u001b[0;34m)\u001b[0m\u001b[0;34m\u001b[0m\u001b[0;34m\u001b[0m\u001b[0m\n\u001b[0m\u001b[1;32m    430\u001b[0m \u001b[0;34m\u001b[0m\u001b[0m\n\u001b[1;32m    431\u001b[0m     \u001b[0;32mif\u001b[0m \u001b[0mchunksize\u001b[0m \u001b[0;32mor\u001b[0m \u001b[0miterator\u001b[0m\u001b[0;34m:\u001b[0m\u001b[0;34m\u001b[0m\u001b[0;34m\u001b[0m\u001b[0m\n",
      "\u001b[0;32m/anaconda3/lib/python3.7/site-packages/pandas/io/parsers.py\u001b[0m in \u001b[0;36m__init__\u001b[0;34m(self, f, engine, **kwds)\u001b[0m\n\u001b[1;32m    893\u001b[0m             \u001b[0mself\u001b[0m\u001b[0;34m.\u001b[0m\u001b[0moptions\u001b[0m\u001b[0;34m[\u001b[0m\u001b[0;34m'has_index_names'\u001b[0m\u001b[0;34m]\u001b[0m \u001b[0;34m=\u001b[0m \u001b[0mkwds\u001b[0m\u001b[0;34m[\u001b[0m\u001b[0;34m'has_index_names'\u001b[0m\u001b[0;34m]\u001b[0m\u001b[0;34m\u001b[0m\u001b[0;34m\u001b[0m\u001b[0m\n\u001b[1;32m    894\u001b[0m \u001b[0;34m\u001b[0m\u001b[0m\n\u001b[0;32m--> 895\u001b[0;31m         \u001b[0mself\u001b[0m\u001b[0;34m.\u001b[0m\u001b[0m_make_engine\u001b[0m\u001b[0;34m(\u001b[0m\u001b[0mself\u001b[0m\u001b[0;34m.\u001b[0m\u001b[0mengine\u001b[0m\u001b[0;34m)\u001b[0m\u001b[0;34m\u001b[0m\u001b[0;34m\u001b[0m\u001b[0m\n\u001b[0m\u001b[1;32m    896\u001b[0m \u001b[0;34m\u001b[0m\u001b[0m\n\u001b[1;32m    897\u001b[0m     \u001b[0;32mdef\u001b[0m \u001b[0mclose\u001b[0m\u001b[0;34m(\u001b[0m\u001b[0mself\u001b[0m\u001b[0;34m)\u001b[0m\u001b[0;34m:\u001b[0m\u001b[0;34m\u001b[0m\u001b[0;34m\u001b[0m\u001b[0m\n",
      "\u001b[0;32m/anaconda3/lib/python3.7/site-packages/pandas/io/parsers.py\u001b[0m in \u001b[0;36m_make_engine\u001b[0;34m(self, engine)\u001b[0m\n\u001b[1;32m   1120\u001b[0m     \u001b[0;32mdef\u001b[0m \u001b[0m_make_engine\u001b[0m\u001b[0;34m(\u001b[0m\u001b[0mself\u001b[0m\u001b[0;34m,\u001b[0m \u001b[0mengine\u001b[0m\u001b[0;34m=\u001b[0m\u001b[0;34m'c'\u001b[0m\u001b[0;34m)\u001b[0m\u001b[0;34m:\u001b[0m\u001b[0;34m\u001b[0m\u001b[0;34m\u001b[0m\u001b[0m\n\u001b[1;32m   1121\u001b[0m         \u001b[0;32mif\u001b[0m \u001b[0mengine\u001b[0m \u001b[0;34m==\u001b[0m \u001b[0;34m'c'\u001b[0m\u001b[0;34m:\u001b[0m\u001b[0;34m\u001b[0m\u001b[0;34m\u001b[0m\u001b[0m\n\u001b[0;32m-> 1122\u001b[0;31m             \u001b[0mself\u001b[0m\u001b[0;34m.\u001b[0m\u001b[0m_engine\u001b[0m \u001b[0;34m=\u001b[0m \u001b[0mCParserWrapper\u001b[0m\u001b[0;34m(\u001b[0m\u001b[0mself\u001b[0m\u001b[0;34m.\u001b[0m\u001b[0mf\u001b[0m\u001b[0;34m,\u001b[0m \u001b[0;34m**\u001b[0m\u001b[0mself\u001b[0m\u001b[0;34m.\u001b[0m\u001b[0moptions\u001b[0m\u001b[0;34m)\u001b[0m\u001b[0;34m\u001b[0m\u001b[0;34m\u001b[0m\u001b[0m\n\u001b[0m\u001b[1;32m   1123\u001b[0m         \u001b[0;32melse\u001b[0m\u001b[0;34m:\u001b[0m\u001b[0;34m\u001b[0m\u001b[0;34m\u001b[0m\u001b[0m\n\u001b[1;32m   1124\u001b[0m             \u001b[0;32mif\u001b[0m \u001b[0mengine\u001b[0m \u001b[0;34m==\u001b[0m \u001b[0;34m'python'\u001b[0m\u001b[0;34m:\u001b[0m\u001b[0;34m\u001b[0m\u001b[0;34m\u001b[0m\u001b[0m\n",
      "\u001b[0;32m/anaconda3/lib/python3.7/site-packages/pandas/io/parsers.py\u001b[0m in \u001b[0;36m__init__\u001b[0;34m(self, src, **kwds)\u001b[0m\n\u001b[1;32m   1851\u001b[0m         \u001b[0mkwds\u001b[0m\u001b[0;34m[\u001b[0m\u001b[0;34m'usecols'\u001b[0m\u001b[0;34m]\u001b[0m \u001b[0;34m=\u001b[0m \u001b[0mself\u001b[0m\u001b[0;34m.\u001b[0m\u001b[0musecols\u001b[0m\u001b[0;34m\u001b[0m\u001b[0;34m\u001b[0m\u001b[0m\n\u001b[1;32m   1852\u001b[0m \u001b[0;34m\u001b[0m\u001b[0m\n\u001b[0;32m-> 1853\u001b[0;31m         \u001b[0mself\u001b[0m\u001b[0;34m.\u001b[0m\u001b[0m_reader\u001b[0m \u001b[0;34m=\u001b[0m \u001b[0mparsers\u001b[0m\u001b[0;34m.\u001b[0m\u001b[0mTextReader\u001b[0m\u001b[0;34m(\u001b[0m\u001b[0msrc\u001b[0m\u001b[0;34m,\u001b[0m \u001b[0;34m**\u001b[0m\u001b[0mkwds\u001b[0m\u001b[0;34m)\u001b[0m\u001b[0;34m\u001b[0m\u001b[0;34m\u001b[0m\u001b[0m\n\u001b[0m\u001b[1;32m   1854\u001b[0m         \u001b[0mself\u001b[0m\u001b[0;34m.\u001b[0m\u001b[0munnamed_cols\u001b[0m \u001b[0;34m=\u001b[0m \u001b[0mself\u001b[0m\u001b[0;34m.\u001b[0m\u001b[0m_reader\u001b[0m\u001b[0;34m.\u001b[0m\u001b[0munnamed_cols\u001b[0m\u001b[0;34m\u001b[0m\u001b[0;34m\u001b[0m\u001b[0m\n\u001b[1;32m   1855\u001b[0m \u001b[0;34m\u001b[0m\u001b[0m\n",
      "\u001b[0;32mpandas/_libs/parsers.pyx\u001b[0m in \u001b[0;36mpandas._libs.parsers.TextReader.__cinit__\u001b[0;34m()\u001b[0m\n",
      "\u001b[0;32mpandas/_libs/parsers.pyx\u001b[0m in \u001b[0;36mpandas._libs.parsers.TextReader._setup_parser_source\u001b[0;34m()\u001b[0m\n",
      "\u001b[0;31mFileNotFoundError\u001b[0m: [Errno 2] File b'//ratings.csv' does not exist: b'//ratings.csv'"
     ]
    }
   ],
   "source": [
    "ratings = read('ratings.csv')"
   ]
  },
  {
   "cell_type": "code",
   "execution_count": 96,
   "metadata": {
    "_uuid": "0f1a829872929812e8148f7f7b79ba614fa9430d"
   },
   "outputs": [
    {
     "data": {
      "text/html": [
       "<div>\n",
       "<style scoped>\n",
       "    .dataframe tbody tr th:only-of-type {\n",
       "        vertical-align: middle;\n",
       "    }\n",
       "\n",
       "    .dataframe tbody tr th {\n",
       "        vertical-align: top;\n",
       "    }\n",
       "\n",
       "    .dataframe thead th {\n",
       "        text-align: right;\n",
       "    }\n",
       "</style>\n",
       "<table border=\"1\" class=\"dataframe\">\n",
       "  <thead>\n",
       "    <tr style=\"text-align: right;\">\n",
       "      <th></th>\n",
       "      <th>book_id</th>\n",
       "      <th>user_id</th>\n",
       "      <th>rating</th>\n",
       "    </tr>\n",
       "  </thead>\n",
       "  <tbody>\n",
       "    <tr>\n",
       "      <th>0</th>\n",
       "      <td>1</td>\n",
       "      <td>314</td>\n",
       "      <td>5</td>\n",
       "    </tr>\n",
       "    <tr>\n",
       "      <th>1</th>\n",
       "      <td>1</td>\n",
       "      <td>439</td>\n",
       "      <td>3</td>\n",
       "    </tr>\n",
       "    <tr>\n",
       "      <th>2</th>\n",
       "      <td>1</td>\n",
       "      <td>588</td>\n",
       "      <td>5</td>\n",
       "    </tr>\n",
       "    <tr>\n",
       "      <th>3</th>\n",
       "      <td>1</td>\n",
       "      <td>1169</td>\n",
       "      <td>4</td>\n",
       "    </tr>\n",
       "    <tr>\n",
       "      <th>4</th>\n",
       "      <td>1</td>\n",
       "      <td>1185</td>\n",
       "      <td>4</td>\n",
       "    </tr>\n",
       "  </tbody>\n",
       "</table>\n",
       "</div>"
      ],
      "text/plain": [
       "   book_id  user_id  rating\n",
       "0        1      314       5\n",
       "1        1      439       3\n",
       "2        1      588       5\n",
       "3        1     1169       4\n",
       "4        1     1185       4"
      ]
     },
     "execution_count": 96,
     "metadata": {},
     "output_type": "execute_result"
    }
   ],
   "source": [
    "head(ratings, 5)"
   ]
  },
  {
   "cell_type": "markdown",
   "metadata": {
    "_uuid": "857875299bf2d4b53b936703bc1e59dad14fae07"
   },
   "source": [
    "Let's see a description of the data using DESCRIBE"
   ]
  },
  {
   "cell_type": "code",
   "execution_count": 73,
   "metadata": {
    "_uuid": "fd2f14b03670668c613f05e2d241f2ea295c2453"
   },
   "outputs": [
    {
     "data": {
      "text/html": [
       "<div>\n",
       "<style scoped>\n",
       "    .dataframe tbody tr th:only-of-type {\n",
       "        vertical-align: middle;\n",
       "    }\n",
       "\n",
       "    .dataframe tbody tr th {\n",
       "        vertical-align: top;\n",
       "    }\n",
       "\n",
       "    .dataframe thead th {\n",
       "        text-align: right;\n",
       "    }\n",
       "</style>\n",
       "<table border=\"1\" class=\"dataframe\">\n",
       "  <thead>\n",
       "    <tr style=\"text-align: right;\">\n",
       "      <th></th>\n",
       "      <th>dtype</th>\n",
       "      <th>missing%</th>\n",
       "      <th>nunique</th>\n",
       "      <th>top3</th>\n",
       "      <th>min</th>\n",
       "      <th>mean</th>\n",
       "      <th>median</th>\n",
       "      <th>max</th>\n",
       "      <th>sample</th>\n",
       "      <th>name</th>\n",
       "    </tr>\n",
       "  </thead>\n",
       "  <tbody>\n",
       "    <tr>\n",
       "      <th>0</th>\n",
       "      <td>int</td>\n",
       "      <td>0.000</td>\n",
       "      <td>53424</td>\n",
       "      <td>[12874, 30944, 52036]</td>\n",
       "      <td>1</td>\n",
       "      <td>25616.760</td>\n",
       "      <td>25077.000</td>\n",
       "      <td>53424</td>\n",
       "      <td>[13047, 5115]</td>\n",
       "      <td>user_id</td>\n",
       "    </tr>\n",
       "    <tr>\n",
       "      <th>1</th>\n",
       "      <td>int</td>\n",
       "      <td>0.000</td>\n",
       "      <td>10000</td>\n",
       "      <td>[2047, 5308, 7358]</td>\n",
       "      <td>1</td>\n",
       "      <td>4943.276</td>\n",
       "      <td>4921.000</td>\n",
       "      <td>10000</td>\n",
       "      <td>[6235, 4142]</td>\n",
       "      <td>book_id</td>\n",
       "    </tr>\n",
       "    <tr>\n",
       "      <th>2</th>\n",
       "      <td>int</td>\n",
       "      <td>0.000</td>\n",
       "      <td>5</td>\n",
       "      <td>[4, 5, 3]</td>\n",
       "      <td>1</td>\n",
       "      <td>3.857</td>\n",
       "      <td>4.000</td>\n",
       "      <td>5</td>\n",
       "      <td>[5, 2]</td>\n",
       "      <td>rating</td>\n",
       "    </tr>\n",
       "  </tbody>\n",
       "</table>\n",
       "</div>"
      ],
      "text/plain": [
       "  dtype  missing%  nunique                   top3  min      mean    median  \\\n",
       "0   int     0.000    53424  [12874, 30944, 52036]    1 25616.760 25077.000   \n",
       "1   int     0.000    10000     [2047, 5308, 7358]    1  4943.276  4921.000   \n",
       "2   int     0.000        5              [4, 5, 3]    1     3.857     4.000   \n",
       "\n",
       "     max         sample     name  \n",
       "0  53424  [13047, 5115]  user_id  \n",
       "1  10000   [6235, 4142]  book_id  \n",
       "2      5         [5, 2]   rating  "
      ]
     },
     "execution_count": 73,
     "metadata": {},
     "output_type": "execute_result"
    }
   ],
   "source": [
    "describe(ratings)"
   ]
  },
  {
   "cell_type": "markdown",
   "metadata": {
    "_uuid": "c97af2b27dc652b568eca35e94c8abecd3f8ca9c"
   },
   "source": [
    "<a id='Plot'></a>\n",
    "<h1> 2. Plotting and Describing Data </h1>\n",
    "\n",
    "Let's draw a HISTOGRAM of ratings using PLOT"
   ]
  },
  {
   "cell_type": "code",
   "execution_count": 74,
   "metadata": {
    "_uuid": "ba1fe6857efe20102c0adc9a6fa09b35f80bd7b3"
   },
   "outputs": [
    {
     "data": {
      "image/png": "[encoded data removed]",
      "text/plain": [
       "<Figure size 630x360 with 1 Axes>"
      ]
     },
     "metadata": {},
     "output_type": "display_data"
    }
   ],
   "source": [
    "plot(data = ratings, x = 'rating', style = 'histogram')"
   ]
  },
  {
   "cell_type": "markdown",
   "metadata": {
    "_uuid": "83f4842e139963d8e96957bbfd91e4f20111e341"
   },
   "source": [
    "Clearly, the approximate median / average rating is around 4-5."
   ]
  },
  {
   "cell_type": "markdown",
   "metadata": {
    "_uuid": "f0277621b0edef7cf083dc63d42b0077f044d572"
   },
   "source": [
    "Let's see how many books each user reads in a HISTOGRAM.\n",
    "\n",
    "Use TALLY "
   ]
  },
  {
   "cell_type": "code",
   "execution_count": 75,
   "metadata": {
    "_uuid": "b0c54d129ebb6fd2d924c69a0cfef9c6aab7519c"
   },
   "outputs": [
    {
     "data": {
      "text/html": [
       "<div>\n",
       "<style scoped>\n",
       "    .dataframe tbody tr th:only-of-type {\n",
       "        vertical-align: middle;\n",
       "    }\n",
       "\n",
       "    .dataframe tbody tr th {\n",
       "        vertical-align: top;\n",
       "    }\n",
       "\n",
       "    .dataframe thead th {\n",
       "        text-align: right;\n",
       "    }\n",
       "</style>\n",
       "<table border=\"1\" class=\"dataframe\">\n",
       "  <thead>\n",
       "    <tr style=\"text-align: right;\">\n",
       "      <th></th>\n",
       "      <th>user_id</th>\n",
       "      <th>tally</th>\n",
       "    </tr>\n",
       "  </thead>\n",
       "  <tbody>\n",
       "    <tr>\n",
       "      <th>0</th>\n",
       "      <td>12874</td>\n",
       "      <td>200</td>\n",
       "    </tr>\n",
       "    <tr>\n",
       "      <th>1</th>\n",
       "      <td>30944</td>\n",
       "      <td>200</td>\n",
       "    </tr>\n",
       "    <tr>\n",
       "      <th>2</th>\n",
       "      <td>52036</td>\n",
       "      <td>199</td>\n",
       "    </tr>\n",
       "    <tr>\n",
       "      <th>3</th>\n",
       "      <td>28158</td>\n",
       "      <td>199</td>\n",
       "    </tr>\n",
       "    <tr>\n",
       "      <th>4</th>\n",
       "      <td>12381</td>\n",
       "      <td>199</td>\n",
       "    </tr>\n",
       "    <tr>\n",
       "      <th>5</th>\n",
       "      <td>45554</td>\n",
       "      <td>197</td>\n",
       "    </tr>\n",
       "    <tr>\n",
       "      <th>6</th>\n",
       "      <td>6630</td>\n",
       "      <td>197</td>\n",
       "    </tr>\n",
       "    <tr>\n",
       "      <th>...</th>\n",
       "      <td>...</td>\n",
       "      <td>...</td>\n",
       "    </tr>\n",
       "    <tr>\n",
       "      <th>53417</th>\n",
       "      <td>50389</td>\n",
       "      <td>2</td>\n",
       "    </tr>\n",
       "    <tr>\n",
       "      <th>53418</th>\n",
       "      <td>52436</td>\n",
       "      <td>2</td>\n",
       "    </tr>\n",
       "    <tr>\n",
       "      <th>53419</th>\n",
       "      <td>9417</td>\n",
       "      <td>2</td>\n",
       "    </tr>\n",
       "    <tr>\n",
       "      <th>53420</th>\n",
       "      <td>33501</td>\n",
       "      <td>2</td>\n",
       "    </tr>\n",
       "    <tr>\n",
       "      <th>53421</th>\n",
       "      <td>35548</td>\n",
       "      <td>2</td>\n",
       "    </tr>\n",
       "    <tr>\n",
       "      <th>53422</th>\n",
       "      <td>41689</td>\n",
       "      <td>2</td>\n",
       "    </tr>\n",
       "    <tr>\n",
       "      <th>53423</th>\n",
       "      <td>2049</td>\n",
       "      <td>2</td>\n",
       "    </tr>\n",
       "  </tbody>\n",
       "</table>\n",
       "<p>53424 rows × 2 columns</p>\n",
       "</div>"
      ],
      "text/plain": [
       "       user_id  tally\n",
       "0        12874    200\n",
       "1        30944    200\n",
       "2        52036    199\n",
       "3        28158    199\n",
       "4        12381    199\n",
       "5        45554    197\n",
       "6         6630    197\n",
       "...        ...    ...\n",
       "53417    50389      2\n",
       "53418    52436      2\n",
       "53419     9417      2\n",
       "53420    33501      2\n",
       "53421    35548      2\n",
       "53422    41689      2\n",
       "53423     2049      2\n",
       "\n",
       "[53424 rows x 2 columns]"
      ]
     },
     "execution_count": 75,
     "metadata": {},
     "output_type": "execute_result"
    }
   ],
   "source": [
    "tally(ratings['user_id'])"
   ]
  },
  {
   "cell_type": "code",
   "execution_count": 76,
   "metadata": {
    "_uuid": "7a7ed098027856b94d4a733f8787aa7c5b99c737"
   },
   "outputs": [
    {
     "data": {
      "text/html": [
       "<div>\n",
       "<style scoped>\n",
       "    .dataframe tbody tr th:only-of-type {\n",
       "        vertical-align: middle;\n",
       "    }\n",
       "\n",
       "    .dataframe tbody tr th {\n",
       "        vertical-align: top;\n",
       "    }\n",
       "\n",
       "    .dataframe thead th {\n",
       "        text-align: right;\n",
       "    }\n",
       "</style>\n",
       "<table border=\"1\" class=\"dataframe\">\n",
       "  <thead>\n",
       "    <tr style=\"text-align: right;\">\n",
       "      <th></th>\n",
       "      <th>user_id</th>\n",
       "      <th>tally</th>\n",
       "    </tr>\n",
       "  </thead>\n",
       "  <tbody>\n",
       "    <tr>\n",
       "      <th>0</th>\n",
       "      <td>12874</td>\n",
       "      <td>200</td>\n",
       "    </tr>\n",
       "    <tr>\n",
       "      <th>1</th>\n",
       "      <td>30944</td>\n",
       "      <td>200</td>\n",
       "    </tr>\n",
       "    <tr>\n",
       "      <th>2</th>\n",
       "      <td>52036</td>\n",
       "      <td>199</td>\n",
       "    </tr>\n",
       "    <tr>\n",
       "      <th>3</th>\n",
       "      <td>28158</td>\n",
       "      <td>199</td>\n",
       "    </tr>\n",
       "    <tr>\n",
       "      <th>4</th>\n",
       "      <td>12381</td>\n",
       "      <td>199</td>\n",
       "    </tr>\n",
       "    <tr>\n",
       "      <th>5</th>\n",
       "      <td>45554</td>\n",
       "      <td>197</td>\n",
       "    </tr>\n",
       "    <tr>\n",
       "      <th>6</th>\n",
       "      <td>6630</td>\n",
       "      <td>197</td>\n",
       "    </tr>\n",
       "    <tr>\n",
       "      <th>7</th>\n",
       "      <td>37834</td>\n",
       "      <td>197</td>\n",
       "    </tr>\n",
       "    <tr>\n",
       "      <th>8</th>\n",
       "      <td>14372</td>\n",
       "      <td>196</td>\n",
       "    </tr>\n",
       "    <tr>\n",
       "      <th>9</th>\n",
       "      <td>24143</td>\n",
       "      <td>196</td>\n",
       "    </tr>\n",
       "  </tbody>\n",
       "</table>\n",
       "</div>"
      ],
      "text/plain": [
       "   user_id  tally\n",
       "0    12874    200\n",
       "1    30944    200\n",
       "2    52036    199\n",
       "3    28158    199\n",
       "4    12381    199\n",
       "5    45554    197\n",
       "6     6630    197\n",
       "7    37834    197\n",
       "8    14372    196\n",
       "9    24143    196"
      ]
     },
     "execution_count": 76,
     "metadata": {},
     "output_type": "execute_result"
    }
   ],
   "source": [
    "head( tally(ratings['user_id']) )"
   ]
  },
  {
   "cell_type": "markdown",
   "metadata": {
    "_uuid": "d0b372b67e52d70f2d26f79f07728a1f330454d6"
   },
   "source": [
    "Let's save the # of books into a variable, a plot a HISTOGRAM"
   ]
  },
  {
   "cell_type": "code",
   "execution_count": 77,
   "metadata": {
    "_uuid": "50ae50d7a2ec279ecc6c13bbc8e3f71bcdf24f9b"
   },
   "outputs": [],
   "source": [
    "user_ratings = tally(ratings['user_id'])\n",
    "user_ratings = user_ratings['tally']"
   ]
  },
  {
   "cell_type": "code",
   "execution_count": 78,
   "metadata": {
    "_uuid": "071076755be7b51745173aaf8869839fbe072ea5"
   },
   "outputs": [
    {
     "data": {
      "image/png": "[encoded data removed]",
      "text/plain": [
       "<Figure size 630x360 with 1 Axes>"
      ]
     },
     "metadata": {},
     "output_type": "display_data"
    }
   ],
   "source": [
    "plot(x = user_ratings, style = 'histogram', data = user_ratings)"
   ]
  },
  {
   "cell_type": "markdown",
   "metadata": {
    "_uuid": "c5153b18d5384678eddd580019925d38f406edd9"
   },
   "source": [
    "Now, let's get the AVERAGE RATING per USER!\n",
    "\n",
    "Let's use TABULATE and METHOD = MEAN"
   ]
  },
  {
   "cell_type": "code",
   "execution_count": 79,
   "metadata": {
    "_uuid": "0c7936850bd91e891c54cead131374c191002776"
   },
   "outputs": [
    {
     "data": {
      "text/html": [
       "<div>\n",
       "<style scoped>\n",
       "    .dataframe tbody tr th:only-of-type {\n",
       "        vertical-align: middle;\n",
       "    }\n",
       "\n",
       "    .dataframe tbody tr th {\n",
       "        vertical-align: top;\n",
       "    }\n",
       "\n",
       "    .dataframe thead th {\n",
       "        text-align: right;\n",
       "    }\n",
       "</style>\n",
       "<table border=\"1\" class=\"dataframe\">\n",
       "  <thead>\n",
       "    <tr style=\"text-align: right;\">\n",
       "      <th></th>\n",
       "      <th>user_id</th>\n",
       "      <th>mean</th>\n",
       "    </tr>\n",
       "  </thead>\n",
       "  <tbody>\n",
       "    <tr>\n",
       "      <th>0</th>\n",
       "      <td>1</td>\n",
       "      <td>3.667</td>\n",
       "    </tr>\n",
       "    <tr>\n",
       "      <th>1</th>\n",
       "      <td>2</td>\n",
       "      <td>4.333</td>\n",
       "    </tr>\n",
       "    <tr>\n",
       "      <th>2</th>\n",
       "      <td>3</td>\n",
       "      <td>1.000</td>\n",
       "    </tr>\n",
       "    <tr>\n",
       "      <th>3</th>\n",
       "      <td>4</td>\n",
       "      <td>4.000</td>\n",
       "    </tr>\n",
       "    <tr>\n",
       "      <th>4</th>\n",
       "      <td>5</td>\n",
       "      <td>4.200</td>\n",
       "    </tr>\n",
       "    <tr>\n",
       "      <th>5</th>\n",
       "      <td>6</td>\n",
       "      <td>4.500</td>\n",
       "    </tr>\n",
       "    <tr>\n",
       "      <th>6</th>\n",
       "      <td>7</td>\n",
       "      <td>3.763</td>\n",
       "    </tr>\n",
       "    <tr>\n",
       "      <th>7</th>\n",
       "      <td>8</td>\n",
       "      <td>3.667</td>\n",
       "    </tr>\n",
       "    <tr>\n",
       "      <th>8</th>\n",
       "      <td>9</td>\n",
       "      <td>3.143</td>\n",
       "    </tr>\n",
       "    <tr>\n",
       "      <th>9</th>\n",
       "      <td>10</td>\n",
       "      <td>3.750</td>\n",
       "    </tr>\n",
       "  </tbody>\n",
       "</table>\n",
       "</div>"
      ],
      "text/plain": [
       "   user_id  mean\n",
       "0        1 3.667\n",
       "1        2 4.333\n",
       "2        3 1.000\n",
       "3        4 4.000\n",
       "4        5 4.200\n",
       "5        6 4.500\n",
       "6        7 3.763\n",
       "7        8 3.667\n",
       "8        9 3.143\n",
       "9       10 3.750"
      ]
     },
     "execution_count": 79,
     "metadata": {},
     "output_type": "execute_result"
    }
   ],
   "source": [
    "by_user = tabulate(ratings['user_id'], ratings['rating'], method = 'mean')\n",
    "head(by_user)"
   ]
  },
  {
   "cell_type": "markdown",
   "metadata": {
    "_uuid": "18509bdf24c3c1c8e4b0fefa665955948698eea0"
   },
   "source": [
    "Likewise, let's use a HISTOGRAM to see the per user averages"
   ]
  },
  {
   "cell_type": "code",
   "execution_count": 80,
   "metadata": {
    "_uuid": "a7c04713271e0994e876fc383645aa4ddc86d08d"
   },
   "outputs": [
    {
     "data": {
      "image/png": "[encoded data removed]",
      "text/plain": [
       "<Figure size 630x360 with 1 Axes>"
      ]
     },
     "metadata": {},
     "output_type": "display_data"
    }
   ],
   "source": [
    "plot(x = 'mean', data = by_user, style = 'histogram')"
   ]
  },
  {
   "cell_type": "markdown",
   "metadata": {
    "_uuid": "64c3d1344bf04c74a8e1e6be3f5e1f537165202f"
   },
   "source": [
    "How about PER BOOK?"
   ]
  },
  {
   "cell_type": "code",
   "execution_count": 81,
   "metadata": {
    "_uuid": "0634a2b1753b5c1e6d641b9a998427a42bb045ea"
   },
   "outputs": [
    {
     "data": {
      "text/html": [
       "<div>\n",
       "<style scoped>\n",
       "    .dataframe tbody tr th:only-of-type {\n",
       "        vertical-align: middle;\n",
       "    }\n",
       "\n",
       "    .dataframe tbody tr th {\n",
       "        vertical-align: top;\n",
       "    }\n",
       "\n",
       "    .dataframe thead th {\n",
       "        text-align: right;\n",
       "    }\n",
       "</style>\n",
       "<table border=\"1\" class=\"dataframe\">\n",
       "  <thead>\n",
       "    <tr style=\"text-align: right;\">\n",
       "      <th></th>\n",
       "      <th>book_id</th>\n",
       "      <th>mean</th>\n",
       "    </tr>\n",
       "  </thead>\n",
       "  <tbody>\n",
       "    <tr>\n",
       "      <th>0</th>\n",
       "      <td>1</td>\n",
       "      <td>4.240</td>\n",
       "    </tr>\n",
       "    <tr>\n",
       "      <th>1</th>\n",
       "      <td>2</td>\n",
       "      <td>4.210</td>\n",
       "    </tr>\n",
       "    <tr>\n",
       "      <th>2</th>\n",
       "      <td>3</td>\n",
       "      <td>3.090</td>\n",
       "    </tr>\n",
       "    <tr>\n",
       "      <th>3</th>\n",
       "      <td>4</td>\n",
       "      <td>4.460</td>\n",
       "    </tr>\n",
       "    <tr>\n",
       "      <th>4</th>\n",
       "      <td>5</td>\n",
       "      <td>3.890</td>\n",
       "    </tr>\n",
       "    <tr>\n",
       "      <th>5</th>\n",
       "      <td>6</td>\n",
       "      <td>4.090</td>\n",
       "    </tr>\n",
       "    <tr>\n",
       "      <th>6</th>\n",
       "      <td>7</td>\n",
       "      <td>3.920</td>\n",
       "    </tr>\n",
       "    <tr>\n",
       "      <th>7</th>\n",
       "      <td>8</td>\n",
       "      <td>3.830</td>\n",
       "    </tr>\n",
       "    <tr>\n",
       "      <th>8</th>\n",
       "      <td>9</td>\n",
       "      <td>3.350</td>\n",
       "    </tr>\n",
       "    <tr>\n",
       "      <th>9</th>\n",
       "      <td>10</td>\n",
       "      <td>4.180</td>\n",
       "    </tr>\n",
       "  </tbody>\n",
       "</table>\n",
       "</div>"
      ],
      "text/plain": [
       "   book_id  mean\n",
       "0        1 4.240\n",
       "1        2 4.210\n",
       "2        3 3.090\n",
       "3        4 4.460\n",
       "4        5 3.890\n",
       "5        6 4.090\n",
       "6        7 3.920\n",
       "7        8 3.830\n",
       "8        9 3.350\n",
       "9       10 4.180"
      ]
     },
     "execution_count": 81,
     "metadata": {},
     "output_type": "execute_result"
    }
   ],
   "source": [
    "by_book = tabulate(ratings['book_id'], ratings['rating'], method = 'mean')\n",
    "head(by_book)"
   ]
  },
  {
   "cell_type": "code",
   "execution_count": 82,
   "metadata": {
    "_uuid": "7d4b370b6ad77c5680b0c8bf9023adf75535dc96"
   },
   "outputs": [
    {
     "data": {
      "image/png": "[encoded data removed]",
      "text/plain": [
       "<Figure size 630x360 with 1 Axes>"
      ]
     },
     "metadata": {},
     "output_type": "display_data"
    }
   ],
   "source": [
    "plot(x = 'mean', data = by_book, style = 'histogram')"
   ]
  },
  {
   "cell_type": "markdown",
   "metadata": {
    "_uuid": "3e609f55258ba4dfa424c15126827a4cd32cab64"
   },
   "source": [
    "Let's see which users are the MOST and LEAST readers.\n",
    "\n",
    "We want to recommend books to the LEAST readers (our goal)"
   ]
  },
  {
   "cell_type": "code",
   "execution_count": 83,
   "metadata": {
    "_uuid": "c52e43bd5e6282121e3592354a5a2dcd4d5ffad6"
   },
   "outputs": [
    {
     "data": {
      "text/html": [
       "<div>\n",
       "<style scoped>\n",
       "    .dataframe tbody tr th:only-of-type {\n",
       "        vertical-align: middle;\n",
       "    }\n",
       "\n",
       "    .dataframe tbody tr th {\n",
       "        vertical-align: top;\n",
       "    }\n",
       "\n",
       "    .dataframe thead th {\n",
       "        text-align: right;\n",
       "    }\n",
       "</style>\n",
       "<table border=\"1\" class=\"dataframe\">\n",
       "  <thead>\n",
       "    <tr style=\"text-align: right;\">\n",
       "      <th></th>\n",
       "      <th>user_id</th>\n",
       "      <th>tally</th>\n",
       "    </tr>\n",
       "  </thead>\n",
       "  <tbody>\n",
       "    <tr>\n",
       "      <th>0</th>\n",
       "      <td>12874</td>\n",
       "      <td>200</td>\n",
       "    </tr>\n",
       "    <tr>\n",
       "      <th>1</th>\n",
       "      <td>30944</td>\n",
       "      <td>200</td>\n",
       "    </tr>\n",
       "    <tr>\n",
       "      <th>2</th>\n",
       "      <td>52036</td>\n",
       "      <td>199</td>\n",
       "    </tr>\n",
       "    <tr>\n",
       "      <th>3</th>\n",
       "      <td>28158</td>\n",
       "      <td>199</td>\n",
       "    </tr>\n",
       "    <tr>\n",
       "      <th>4</th>\n",
       "      <td>12381</td>\n",
       "      <td>199</td>\n",
       "    </tr>\n",
       "    <tr>\n",
       "      <th>5</th>\n",
       "      <td>45554</td>\n",
       "      <td>197</td>\n",
       "    </tr>\n",
       "    <tr>\n",
       "      <th>6</th>\n",
       "      <td>6630</td>\n",
       "      <td>197</td>\n",
       "    </tr>\n",
       "    <tr>\n",
       "      <th>7</th>\n",
       "      <td>37834</td>\n",
       "      <td>197</td>\n",
       "    </tr>\n",
       "    <tr>\n",
       "      <th>8</th>\n",
       "      <td>14372</td>\n",
       "      <td>196</td>\n",
       "    </tr>\n",
       "    <tr>\n",
       "      <th>9</th>\n",
       "      <td>24143</td>\n",
       "      <td>196</td>\n",
       "    </tr>\n",
       "  </tbody>\n",
       "</table>\n",
       "</div>"
      ],
      "text/plain": [
       "   user_id  tally\n",
       "0    12874    200\n",
       "1    30944    200\n",
       "2    52036    199\n",
       "3    28158    199\n",
       "4    12381    199\n",
       "5    45554    197\n",
       "6     6630    197\n",
       "7    37834    197\n",
       "8    14372    196\n",
       "9    24143    196"
      ]
     },
     "execution_count": 83,
     "metadata": {},
     "output_type": "execute_result"
    }
   ],
   "source": [
    "users = tally(ratings['user_id'])\n",
    "head(users)"
   ]
  },
  {
   "cell_type": "markdown",
   "metadata": {
    "_uuid": "60c2428437ffe696a52e65b9650c59b460cdf1ba"
   },
   "source": [
    "<a id='Pivot'></a>\n",
    "<h1> 3. Pivot Tables in Recommendation Algorithms </h1>\n",
    "\n",
    "So we have 53,000 users and 10,000 books.\n",
    "\n",
    "We want to build a large table where rows = each user, columns = each book, and we want this ratings per user table."
   ]
  },
  {
   "cell_type": "markdown",
   "metadata": {
    "_uuid": "46807e50d1ae7898a39eff867a893e3c0d34182a"
   },
   "source": [
    "Anyways, to make a table rows = each user id, column = each book id, and each cell = rating, use PIVOT\n",
    "\n",
    "It'll take some time, so be patient."
   ]
  },
  {
   "cell_type": "code",
   "execution_count": 84,
   "metadata": {
    "_uuid": "768069ac983455844f709e7b0ec8c0c5656578d6"
   },
   "outputs": [],
   "source": [
    "mappings = pivot(ratings['user_id'], ratings['book_id'], ratings['rating'])"
   ]
  },
  {
   "cell_type": "code",
   "execution_count": 85,
   "metadata": {
    "_uuid": "d4037d4062831fb7cef54d7ccf31d2a29a30cfb2"
   },
   "outputs": [
    {
     "data": {
      "text/html": [
       "<div>\n",
       "<style scoped>\n",
       "    .dataframe tbody tr th:only-of-type {\n",
       "        vertical-align: middle;\n",
       "    }\n",
       "\n",
       "    .dataframe tbody tr th {\n",
       "        vertical-align: top;\n",
       "    }\n",
       "\n",
       "    .dataframe thead th {\n",
       "        text-align: right;\n",
       "    }\n",
       "</style>\n",
       "<table border=\"1\" class=\"dataframe\">\n",
       "  <thead>\n",
       "    <tr style=\"text-align: right;\">\n",
       "      <th></th>\n",
       "      <th>1</th>\n",
       "      <th>2</th>\n",
       "      <th>3</th>\n",
       "      <th>4</th>\n",
       "      <th>5</th>\n",
       "      <th>6</th>\n",
       "      <th>7</th>\n",
       "      <th>8</th>\n",
       "      <th>9</th>\n",
       "      <th>10</th>\n",
       "      <th>...</th>\n",
       "      <th>9991</th>\n",
       "      <th>9992</th>\n",
       "      <th>9993</th>\n",
       "      <th>9994</th>\n",
       "      <th>9995</th>\n",
       "      <th>9996</th>\n",
       "      <th>9997</th>\n",
       "      <th>9998</th>\n",
       "      <th>9999</th>\n",
       "      <th>10000</th>\n",
       "    </tr>\n",
       "  </thead>\n",
       "  <tbody>\n",
       "    <tr>\n",
       "      <th>314</th>\n",
       "      <td>5.000</td>\n",
       "      <td>nan</td>\n",
       "      <td>3.000</td>\n",
       "      <td>nan</td>\n",
       "      <td>4.000</td>\n",
       "      <td>5.000</td>\n",
       "      <td>nan</td>\n",
       "      <td>nan</td>\n",
       "      <td>nan</td>\n",
       "      <td>nan</td>\n",
       "      <td>...</td>\n",
       "      <td>nan</td>\n",
       "      <td>nan</td>\n",
       "      <td>nan</td>\n",
       "      <td>nan</td>\n",
       "      <td>nan</td>\n",
       "      <td>nan</td>\n",
       "      <td>nan</td>\n",
       "      <td>nan</td>\n",
       "      <td>nan</td>\n",
       "      <td>nan</td>\n",
       "    </tr>\n",
       "    <tr>\n",
       "      <th>439</th>\n",
       "      <td>3.000</td>\n",
       "      <td>nan</td>\n",
       "      <td>nan</td>\n",
       "      <td>5.000</td>\n",
       "      <td>nan</td>\n",
       "      <td>nan</td>\n",
       "      <td>3.000</td>\n",
       "      <td>nan</td>\n",
       "      <td>3.000</td>\n",
       "      <td>nan</td>\n",
       "      <td>...</td>\n",
       "      <td>nan</td>\n",
       "      <td>nan</td>\n",
       "      <td>nan</td>\n",
       "      <td>nan</td>\n",
       "      <td>nan</td>\n",
       "      <td>nan</td>\n",
       "      <td>nan</td>\n",
       "      <td>nan</td>\n",
       "      <td>nan</td>\n",
       "      <td>nan</td>\n",
       "    </tr>\n",
       "    <tr>\n",
       "      <th>588</th>\n",
       "      <td>5.000</td>\n",
       "      <td>nan</td>\n",
       "      <td>1.000</td>\n",
       "      <td>nan</td>\n",
       "      <td>nan</td>\n",
       "      <td>nan</td>\n",
       "      <td>nan</td>\n",
       "      <td>3.000</td>\n",
       "      <td>3.000</td>\n",
       "      <td>nan</td>\n",
       "      <td>...</td>\n",
       "      <td>nan</td>\n",
       "      <td>nan</td>\n",
       "      <td>nan</td>\n",
       "      <td>nan</td>\n",
       "      <td>nan</td>\n",
       "      <td>nan</td>\n",
       "      <td>nan</td>\n",
       "      <td>nan</td>\n",
       "      <td>nan</td>\n",
       "      <td>nan</td>\n",
       "    </tr>\n",
       "    <tr>\n",
       "      <th>1169</th>\n",
       "      <td>4.000</td>\n",
       "      <td>3.000</td>\n",
       "      <td>nan</td>\n",
       "      <td>5.000</td>\n",
       "      <td>5.000</td>\n",
       "      <td>nan</td>\n",
       "      <td>nan</td>\n",
       "      <td>nan</td>\n",
       "      <td>nan</td>\n",
       "      <td>nan</td>\n",
       "      <td>...</td>\n",
       "      <td>nan</td>\n",
       "      <td>nan</td>\n",
       "      <td>nan</td>\n",
       "      <td>nan</td>\n",
       "      <td>nan</td>\n",
       "      <td>nan</td>\n",
       "      <td>nan</td>\n",
       "      <td>nan</td>\n",
       "      <td>nan</td>\n",
       "      <td>nan</td>\n",
       "    </tr>\n",
       "    <tr>\n",
       "      <th>1185</th>\n",
       "      <td>4.000</td>\n",
       "      <td>nan</td>\n",
       "      <td>nan</td>\n",
       "      <td>nan</td>\n",
       "      <td>nan</td>\n",
       "      <td>nan</td>\n",
       "      <td>nan</td>\n",
       "      <td>nan</td>\n",
       "      <td>nan</td>\n",
       "      <td>nan</td>\n",
       "      <td>...</td>\n",
       "      <td>nan</td>\n",
       "      <td>nan</td>\n",
       "      <td>nan</td>\n",
       "      <td>nan</td>\n",
       "      <td>nan</td>\n",
       "      <td>nan</td>\n",
       "      <td>nan</td>\n",
       "      <td>nan</td>\n",
       "      <td>nan</td>\n",
       "      <td>nan</td>\n",
       "    </tr>\n",
       "    <tr>\n",
       "      <th>2077</th>\n",
       "      <td>4.000</td>\n",
       "      <td>nan</td>\n",
       "      <td>2.000</td>\n",
       "      <td>nan</td>\n",
       "      <td>nan</td>\n",
       "      <td>2.000</td>\n",
       "      <td>nan</td>\n",
       "      <td>nan</td>\n",
       "      <td>nan</td>\n",
       "      <td>nan</td>\n",
       "      <td>...</td>\n",
       "      <td>nan</td>\n",
       "      <td>nan</td>\n",
       "      <td>nan</td>\n",
       "      <td>nan</td>\n",
       "      <td>nan</td>\n",
       "      <td>nan</td>\n",
       "      <td>nan</td>\n",
       "      <td>nan</td>\n",
       "      <td>nan</td>\n",
       "      <td>nan</td>\n",
       "    </tr>\n",
       "    <tr>\n",
       "      <th>2487</th>\n",
       "      <td>4.000</td>\n",
       "      <td>nan</td>\n",
       "      <td>3.000</td>\n",
       "      <td>5.000</td>\n",
       "      <td>3.000</td>\n",
       "      <td>nan</td>\n",
       "      <td>nan</td>\n",
       "      <td>nan</td>\n",
       "      <td>nan</td>\n",
       "      <td>nan</td>\n",
       "      <td>...</td>\n",
       "      <td>nan</td>\n",
       "      <td>nan</td>\n",
       "      <td>nan</td>\n",
       "      <td>nan</td>\n",
       "      <td>nan</td>\n",
       "      <td>nan</td>\n",
       "      <td>nan</td>\n",
       "      <td>nan</td>\n",
       "      <td>nan</td>\n",
       "      <td>nan</td>\n",
       "    </tr>\n",
       "    <tr>\n",
       "      <th>2900</th>\n",
       "      <td>5.000</td>\n",
       "      <td>nan</td>\n",
       "      <td>3.000</td>\n",
       "      <td>nan</td>\n",
       "      <td>5.000</td>\n",
       "      <td>nan</td>\n",
       "      <td>nan</td>\n",
       "      <td>3.000</td>\n",
       "      <td>nan</td>\n",
       "      <td>nan</td>\n",
       "      <td>...</td>\n",
       "      <td>nan</td>\n",
       "      <td>nan</td>\n",
       "      <td>nan</td>\n",
       "      <td>nan</td>\n",
       "      <td>nan</td>\n",
       "      <td>nan</td>\n",
       "      <td>nan</td>\n",
       "      <td>nan</td>\n",
       "      <td>nan</td>\n",
       "      <td>nan</td>\n",
       "    </tr>\n",
       "    <tr>\n",
       "      <th>3662</th>\n",
       "      <td>4.000</td>\n",
       "      <td>nan</td>\n",
       "      <td>4.000</td>\n",
       "      <td>nan</td>\n",
       "      <td>4.000</td>\n",
       "      <td>5.000</td>\n",
       "      <td>nan</td>\n",
       "      <td>nan</td>\n",
       "      <td>nan</td>\n",
       "      <td>4.000</td>\n",
       "      <td>...</td>\n",
       "      <td>nan</td>\n",
       "      <td>nan</td>\n",
       "      <td>nan</td>\n",
       "      <td>nan</td>\n",
       "      <td>nan</td>\n",
       "      <td>nan</td>\n",
       "      <td>nan</td>\n",
       "      <td>nan</td>\n",
       "      <td>nan</td>\n",
       "      <td>nan</td>\n",
       "    </tr>\n",
       "    <tr>\n",
       "      <th>3922</th>\n",
       "      <td>5.000</td>\n",
       "      <td>5.000</td>\n",
       "      <td>nan</td>\n",
       "      <td>4.000</td>\n",
       "      <td>2.000</td>\n",
       "      <td>nan</td>\n",
       "      <td>5.000</td>\n",
       "      <td>1.000</td>\n",
       "      <td>3.000</td>\n",
       "      <td>5.000</td>\n",
       "      <td>...</td>\n",
       "      <td>nan</td>\n",
       "      <td>nan</td>\n",
       "      <td>nan</td>\n",
       "      <td>nan</td>\n",
       "      <td>nan</td>\n",
       "      <td>nan</td>\n",
       "      <td>nan</td>\n",
       "      <td>nan</td>\n",
       "      <td>nan</td>\n",
       "      <td>nan</td>\n",
       "    </tr>\n",
       "  </tbody>\n",
       "</table>\n",
       "<p>10 rows × 10000 columns</p>\n",
       "</div>"
      ],
      "text/plain": [
       "      1      2      3      4      5      6      7      8      9      10     \\\n",
       "314   5.000    nan  3.000    nan  4.000  5.000    nan    nan    nan    nan   \n",
       "439   3.000    nan    nan  5.000    nan    nan  3.000    nan  3.000    nan   \n",
       "588   5.000    nan  1.000    nan    nan    nan    nan  3.000  3.000    nan   \n",
       "1169  4.000  3.000    nan  5.000  5.000    nan    nan    nan    nan    nan   \n",
       "1185  4.000    nan    nan    nan    nan    nan    nan    nan    nan    nan   \n",
       "2077  4.000    nan  2.000    nan    nan  2.000    nan    nan    nan    nan   \n",
       "2487  4.000    nan  3.000  5.000  3.000    nan    nan    nan    nan    nan   \n",
       "2900  5.000    nan  3.000    nan  5.000    nan    nan  3.000    nan    nan   \n",
       "3662  4.000    nan  4.000    nan  4.000  5.000    nan    nan    nan  4.000   \n",
       "3922  5.000  5.000    nan  4.000  2.000    nan  5.000  1.000  3.000  5.000   \n",
       "\n",
       "      ...  9991   9992   9993   9994   9995   9996   9997   9998   9999   \\\n",
       "314   ...    nan    nan    nan    nan    nan    nan    nan    nan    nan   \n",
       "439   ...    nan    nan    nan    nan    nan    nan    nan    nan    nan   \n",
       "588   ...    nan    nan    nan    nan    nan    nan    nan    nan    nan   \n",
       "1169  ...    nan    nan    nan    nan    nan    nan    nan    nan    nan   \n",
       "1185  ...    nan    nan    nan    nan    nan    nan    nan    nan    nan   \n",
       "2077  ...    nan    nan    nan    nan    nan    nan    nan    nan    nan   \n",
       "2487  ...    nan    nan    nan    nan    nan    nan    nan    nan    nan   \n",
       "2900  ...    nan    nan    nan    nan    nan    nan    nan    nan    nan   \n",
       "3662  ...    nan    nan    nan    nan    nan    nan    nan    nan    nan   \n",
       "3922  ...    nan    nan    nan    nan    nan    nan    nan    nan    nan   \n",
       "\n",
       "      10000  \n",
       "314     nan  \n",
       "439     nan  \n",
       "588     nan  \n",
       "1169    nan  \n",
       "1185    nan  \n",
       "2077    nan  \n",
       "2487    nan  \n",
       "2900    nan  \n",
       "3662    nan  \n",
       "3922    nan  \n",
       "\n",
       "[10 rows x 10000 columns]"
      ]
     },
     "execution_count": 85,
     "metadata": {},
     "output_type": "execute_result"
    }
   ],
   "source": [
    "head(mappings)"
   ]
  },
  {
   "cell_type": "markdown",
   "metadata": {
    "_uuid": "14ec5f635608a906945a5d4f0ee08bab4893f339",
    "collapsed": true
   },
   "source": [
    "We can also figure out each user's average rating using ROW_OPERATION.\n",
    "\n",
    "The HISTOGRAM should look exactly the same as the ones we did before."
   ]
  },
  {
   "cell_type": "code",
   "execution_count": 86,
   "metadata": {
    "_uuid": "cb878a938eb7a3153d2e204612f4e8a8de8a39ea"
   },
   "outputs": [
    {
     "data": {
      "image/png": "[encoded data removed]",
      "text/plain": [
       "<Figure size 630x360 with 1 Axes>"
      ]
     },
     "metadata": {},
     "output_type": "display_data"
    }
   ],
   "source": [
    "mean_users = row_operation(mappings, 'mean')\n",
    "plot(mean_users, style = 'histogram')"
   ]
  },
  {
   "cell_type": "markdown",
   "metadata": {
    "_uuid": "06a90ee6d48e58afa29fd40dac4814bbda74cd16"
   },
   "source": [
    "Likewise, we can also figure out each book's average rating using COL_OPERATION.\n",
    "\n",
    "The HISTOGRAM should look exactly the same as the ones we did before."
   ]
  },
  {
   "cell_type": "code",
   "execution_count": 87,
   "metadata": {
    "_uuid": "a7bb1b229c267c2eb8887fcc97b8afc2993c596f"
   },
   "outputs": [
    {
     "data": {
      "image/png": "[encoded data removed]",
      "text/plain": [
       "<Figure size 630x360 with 1 Axes>"
      ]
     },
     "metadata": {},
     "output_type": "display_data"
    }
   ],
   "source": [
    "mean_books = col_operation(mappings, 'mean')\n",
    "plot(mean_books, style = 'histogram')"
   ]
  },
  {
   "cell_type": "markdown",
   "metadata": {
    "_uuid": "05af73d2dde64d43ca32b6183f8c2555eb5f8a0e",
    "collapsed": true
   },
   "source": [
    "<a id='Filter'></a>\n",
    "<h1> 4. COLLOBORATIVE FILTERING </h1>\n",
    "\n",
    "Let's do some recommendations!\n",
    "\n",
    "We will be doing 6 major ways of recommendation:\n",
    "\n",
    "1. Recommending random books\n",
    "\n",
    "2. Recommending most viewed & most popular --> weighted\n",
    "\n",
    "3. Recommending \"closest user's\" books (manual nearest neighbors)\n",
    "\n",
    "4. Recommending \"closest user's\" books (nearest neighbors)"
   ]
  },
  {
   "cell_type": "markdown",
   "metadata": {
    "_uuid": "e103ae8e4cfeb8d695dd542c97523cf9d113e606"
   },
   "source": [
    "**1. Recommending random books**\n",
    "\n",
    "This is the fastest and cheapest approach (though not accurate and useful)\n",
    "\n",
    "Literally, when a user comes, check what they haven't read, and recommend a random book.\n",
    "\n",
    "We firstly want all unique book ids. Use COLUMNS, and then RANDOM to choose a random book.\n",
    "\n",
    "Each student's random output will be different (since random choosing 1)"
   ]
  },
  {
   "cell_type": "code",
   "execution_count": 88,
   "metadata": {
    "_uuid": "da9771e8f11abf5a3ee143f0f575b3f29cfd19d8"
   },
   "outputs": [
    {
     "data": {
      "text/plain": [
       "[3683]"
      ]
     },
     "execution_count": 88,
     "metadata": {},
     "output_type": "execute_result"
    }
   ],
   "source": [
    "random(columns(mappings))"
   ]
  },
  {
   "cell_type": "markdown",
   "metadata": {
    "_uuid": "75a065de828855a0a05846e9a035604935f31962"
   },
   "source": [
    "We can also choose say 10 random books"
   ]
  },
  {
   "cell_type": "code",
   "execution_count": 89,
   "metadata": {
    "_uuid": "ba1ca95e6a3d27148f4b0a311d9261e97ba013de"
   },
   "outputs": [
    {
     "data": {
      "text/plain": [
       "[9971, 5932, 5808, 7014, 486, 6997, 2075, 9350, 4684, 7776]"
      ]
     },
     "execution_count": 89,
     "metadata": {},
     "output_type": "execute_result"
    }
   ],
   "source": [
    "random(columns(mappings), 10)"
   ]
  },
  {
   "cell_type": "markdown",
   "metadata": {
    "_uuid": "cab9f3b123c8119cd8e0471131d5324c6851272a",
    "collapsed": true
   },
   "source": [
    "**2. Recommending most viewed & most popular --> weighted**\n",
    "\n",
    "Next, we want to recommend books which are the most popular.\n",
    "\n",
    "So, we want to take the MEAN / AVERAGE of all the COLUMNS (Books).\n",
    "\n",
    "Let's do that using COL_OPERATION and MEAN.\n",
    "\n",
    "Note - we also want to COUNT how many ratings each book got - (so get popularity score --> the more people read it - the more popular)"
   ]
  },
  {
   "cell_type": "code",
   "execution_count": 90,
   "metadata": {
    "_uuid": "75880f83b12318f79ec818e758d99db436a500be"
   },
   "outputs": [],
   "source": [
    "means = col_operation(mappings, 'mean')\n",
    "counts = col_operation(mappings, 'count')"
   ]
  },
  {
   "cell_type": "markdown",
   "metadata": {
    "_uuid": "1f736c20bc48529135e4aeeca115d91bee126ee4"
   },
   "source": [
    "Let's sort both means, counts by DESCENDING order using SORT, since we want the highest rating and most popular"
   ]
  },
  {
   "cell_type": "code",
   "execution_count": 91,
   "metadata": {
    "_uuid": "8a681d7802ec28d6c3d0b24152a00bb39e0d64f7"
   },
   "outputs": [
    {
     "data": {
      "text/plain": [
       "7947   4.816\n",
       "6920   4.778\n",
       "9566   4.778\n",
       "5207   4.778\n",
       "3275   4.770\n",
       "6361   4.770\n",
       "5580   4.750\n",
       "6590   4.750\n",
       "4483   4.750\n",
       "1308   4.737\n",
       "Name: col_operation, dtype: float32"
      ]
     },
     "execution_count": 91,
     "metadata": {},
     "output_type": "execute_result"
    }
   ],
   "source": [
    "sorted_means = sort(means, how = 'descending')\n",
    "head(sorted_means)"
   ]
  },
  {
   "cell_type": "code",
   "execution_count": 92,
   "metadata": {
    "_uuid": "f304e32784899954934cfa58523130ed012564fa"
   },
   "outputs": [
    {
     "data": {
      "text/plain": [
       "5000    100\n",
       "3527    100\n",
       "3533    100\n",
       "3532    100\n",
       "3531    100\n",
       "3530    100\n",
       "3529    100\n",
       "3528    100\n",
       "3526    100\n",
       "3561    100\n",
       "Name: col_operation, dtype: int64"
      ]
     },
     "execution_count": 92,
     "metadata": {},
     "output_type": "execute_result"
    }
   ],
   "source": [
    "sorted_counts = sort(counts, how = 'descending')\n",
    "head(sorted_counts)"
   ]
  },
  {
   "cell_type": "markdown",
   "metadata": {
    "_uuid": "c21d5f8b9b4e1b578e55cf7bf5815192388d3cbc"
   },
   "source": [
    "Now, the issue now is sometimes 1 person rated 1 book only with rating = 5. It'll be high on the list.\n",
    "\n",
    "So, what happens if this happens? If 1 person rates it 5, should be recommend it to new users?\n",
    "\n",
    "Definitely not! Popularity also matters!\n",
    "\n",
    "So, we need to combine POPULARITY AND RATINGS into 1 measure.\n",
    "\n",
    "We will use the rating * LOG(popularity).\n",
    "\n",
    "Why LOG? It's because the more popular, the better, BUT too large numbers means popularity takes over.\n",
    "\n",
    "<img src=\"https://drive.google.com/uc?id=1VE4XOpCi5Qf3uLMzeWVYOPUVyQYhXCMS\" style=\"width: 300px;\"/>"
   ]
  },
  {
   "cell_type": "code",
   "execution_count": 93,
   "metadata": {
    "_uuid": "a03e7f87204362577c4ba61026ca907467df5419"
   },
   "outputs": [
    {
     "data": {
      "text/plain": [
       "3275   21.967\n",
       "6361   21.967\n",
       "9566   21.954\n",
       "5207   21.954\n",
       "6920   21.954\n",
       "6590   21.875\n",
       "5580   21.875\n",
       "4483   21.875\n",
       "8978   21.782\n",
       "3628   21.782\n",
       "Name: col_operation, dtype: float64"
      ]
     },
     "execution_count": 93,
     "metadata": {},
     "output_type": "execute_result"
    }
   ],
   "source": [
    "score = means*log(counts)\n",
    "score_sort = sort(score, how = 'descending')\n",
    "head(score_sort)"
   ]
  },
  {
   "cell_type": "markdown",
   "metadata": {
    "_uuid": "2820da019feaaf853333123139eafe0fd5b503b5"
   },
   "source": [
    "Index means to get actual book.\n",
    "\n",
    "To get say top 20 books, use 0:20 to index 0 to 20"
   ]
  },
  {
   "cell_type": "code",
   "execution_count": 94,
   "metadata": {
    "_uuid": "15935614fe3d21db13431864453333a93199addb"
   },
   "outputs": [
    {
     "name": "stdout",
     "output_type": "stream",
     "text": [
      "3275\n",
      "[3275, 6361, 9566, 5207, 6920, 6590, 5580, 4483, 8978, 3628, 1308, 3753, 8109, 9141, 2244, 1788, 7947, 4868, 4708, 6642]\n"
     ]
    }
   ],
   "source": [
    "print(index(score_sort)[0])\n",
    "print(index(score_sort)[0:20])"
   ]
  },
  {
   "cell_type": "markdown",
   "metadata": {
    "_uuid": "19c8150a7d288b6fedc718d4995c0f8a83a3c970"
   },
   "source": [
    "**3. Recommending \"closest user's\" books (manual - nearest neighbors)**\n",
    "\n",
    "Now, lets MANUALLY recommend books.\n",
    "\n",
    "What we do, is given a user A, find the CLOSEST user B out of all users U such that we can recommend all the books user B read (the best ones)\n",
    "\n",
    "Say we get user A, what we essentially do, is find 10 users that are similar, and average all their ratings.\n",
    "\n",
    "Now, let's find which user has the LEAST read books (we want to recommend books to them.)\n",
    "\n",
    "Use ROW_OPERATION and COUNT"
   ]
  },
  {
   "cell_type": "code",
   "execution_count": 63,
   "metadata": {
    "_uuid": "eb7022d1c10e7a674ca9aafaec168e730b633dd7"
   },
   "outputs": [],
   "source": [
    "user_read = row_operation(mappings, 'count')\n",
    "user_read = sort(user_read, how = 'ascending')"
   ]
  },
  {
   "cell_type": "code",
   "execution_count": 64,
   "metadata": {
    "_uuid": "695654bf5c7962ac6e749dff10b87c000589daa0"
   },
   "outputs": [
    {
     "data": {
      "text/plain": [
       "49960    1\n",
       "10717    1\n",
       "6672     1\n",
       "33596    1\n",
       "47052    1\n",
       "20564    1\n",
       "5099     1\n",
       "2846     1\n",
       "27880    1\n",
       "563      1\n",
       "Name: row_operation, dtype: int64"
      ]
     },
     "execution_count": 64,
     "metadata": {},
     "output_type": "execute_result"
    }
   ],
   "source": [
    "head(user_read)"
   ]
  },
  {
   "cell_type": "markdown",
   "metadata": {
    "_uuid": "b8531698240387b33ade4d05a59ab9ee67eb537a"
   },
   "source": [
    "Let's get user 563, and the targets are users who have >40 read books.\n",
    "\n",
    "First, we need to LOCATE all users > 40 books."
   ]
  },
  {
   "cell_type": "code",
   "execution_count": 97,
   "metadata": {
    "_uuid": "73ad31e5868ebbd96134806578a88a5e31395383"
   },
   "outputs": [],
   "source": [
    "over_40 = locate(mappings, user_read > 40)"
   ]
  },
  {
   "cell_type": "markdown",
   "metadata": {
    "_uuid": "c89095e46a5870554c14306ec395d9b1b19526c1"
   },
   "source": [
    "Now, we want to find the DISTANCE between all users U against user A.\n",
    "\n",
    "Distance is calculated using the EUCLIDEAN distance or L2 norm. This is the straight line distance between points in any N dimensions.\n",
    "\n",
    "The shorter the straight line distance, the CLOSER the user.\n",
    "\n",
    "Below, you can see the straight line EUCLIDEAN distance from A to B\n",
    "\n",
    "<img src=\"https://qph.fs.quoracdn.net/main-qimg-e73d01f18d0b4a2f57ff2206a3863c10-c\" style=\"width: 300px;\"/>\n",
    "\n",
    "Remember, let's get user 563 against over_40\n",
    "\n",
    "Now, the actual process is below: (WHITE means no rating).\n",
    "\n",
    "\n",
    "<img src=\"https://drive.google.com/uc?id=1TtaUhOCGKHngpntfmWylDq2m4zVuGrKX\" style=\"width: 500px;\"/>"
   ]
  },
  {
   "cell_type": "code",
   "execution_count": 98,
   "metadata": {
    "_uuid": "0dc14749b9c92dc2ce717be6788e56f32bfa2448"
   },
   "outputs": [
    {
     "data": {
      "text/plain": [
       "1       nan\n",
       "2       nan\n",
       "3       nan\n",
       "4       nan\n",
       "5       nan\n",
       "6       nan\n",
       "7       nan\n",
       "         ..\n",
       "9994    nan\n",
       "9995    nan\n",
       "9996    nan\n",
       "9997    nan\n",
       "9998    nan\n",
       "9999    nan\n",
       "10000   nan\n",
       "Name: 563, Length: 10000, dtype: float32"
      ]
     },
     "execution_count": 98,
     "metadata": {},
     "output_type": "execute_result"
    }
   ],
   "source": [
    "row(mappings, 563)"
   ]
  },
  {
   "cell_type": "code",
   "execution_count": 99,
   "metadata": {
    "_uuid": "430376ea64709976ba8879e3c57c7404ad4764be"
   },
   "outputs": [],
   "source": [
    "user_563 = row(mappings, 563)\n",
    "ds = distances(  over_40,  user_563 )"
   ]
  },
  {
   "cell_type": "markdown",
   "metadata": {
    "_uuid": "ea08f83c993100bf161a77623cbd6eef4dd5ff57"
   },
   "source": [
    "Given the distances, we want to SORT ASCENDING and get maybe the top 1 person with the LEAST distances."
   ]
  },
  {
   "cell_type": "code",
   "execution_count": 100,
   "metadata": {
    "_uuid": "bd3a94ed2be440fefa01ffe097d47d1f4e7f43b2"
   },
   "outputs": [
    {
     "data": {
      "text/plain": [
       "3077    0.000\n",
       "44794   0.000\n",
       "28495   0.000\n",
       "22710   1.000\n",
       "3174    1.000\n",
       "25340   1.000\n",
       "178     1.000\n",
       "15756   1.000\n",
       "314     3.000\n",
       "30027   3.000\n",
       "dtype: float32"
      ]
     },
     "execution_count": 100,
     "metadata": {},
     "output_type": "execute_result"
    }
   ],
   "source": [
    "ds = sort(ds, how = 'ascending')\n",
    "head(ds)"
   ]
  },
  {
   "cell_type": "markdown",
   "metadata": {
    "_kg_hide-output": true,
    "_uuid": "3d76cb41e5b87c6048dc6033e6009eb518f3a8e4"
   },
   "source": [
    "Now, get the top 1 person  in mappings using INDEX and ROW"
   ]
  },
  {
   "cell_type": "code",
   "execution_count": 101,
   "metadata": {
    "_uuid": "d9e39130445270e61f1fc26aaee8d7018a83e1c2"
   },
   "outputs": [
    {
     "data": {
      "text/plain": [
       "1       nan\n",
       "2       nan\n",
       "3       nan\n",
       "4       nan\n",
       "5       nan\n",
       "6       nan\n",
       "7       nan\n",
       "         ..\n",
       "9994    nan\n",
       "9995    nan\n",
       "9996    nan\n",
       "9997    nan\n",
       "9998    nan\n",
       "9999    nan\n",
       "10000   nan\n",
       "Name: 3077, Length: 10000, dtype: float32"
      ]
     },
     "execution_count": 101,
     "metadata": {},
     "output_type": "execute_result"
    }
   ],
   "source": [
    "row(mappings, index(ds)[0])"
   ]
  },
  {
   "cell_type": "code",
   "execution_count": 102,
   "metadata": {
    "_uuid": "ace631df51e3bb26c57d6482dc97ec2fa171e274"
   },
   "outputs": [
    {
     "data": {
      "text/plain": [
       "1218   5.000\n",
       "2625   5.000\n",
       "4558   5.000\n",
       "3578   5.000\n",
       "1445   5.000\n",
       "6009   5.000\n",
       "1925   4.000\n",
       "2055   4.000\n",
       "1907   4.000\n",
       "3277   4.000\n",
       "Name: 3077, dtype: float32"
      ]
     },
     "execution_count": 102,
     "metadata": {},
     "output_type": "execute_result"
    }
   ],
   "source": [
    "recommendations = row(mappings, index(ds)[0])\n",
    "score = sort(recommendations, how = 'descending')\n",
    "\n",
    "head(score)"
   ]
  },
  {
   "cell_type": "markdown",
   "metadata": {
    "_uuid": "32571c985b8a0035ef9e9c9874ae21894bb1884f"
   },
   "source": [
    "So, the best book for user 563 is:"
   ]
  },
  {
   "cell_type": "code",
   "execution_count": 103,
   "metadata": {
    "_uuid": "c36b4fd2dbebcd6fdbae28525650f7a58e2a766b"
   },
   "outputs": [
    {
     "data": {
      "text/plain": [
       "1218"
      ]
     },
     "execution_count": 103,
     "metadata": {},
     "output_type": "execute_result"
    }
   ],
   "source": [
    "index(score)[0]"
   ]
  },
  {
   "cell_type": "markdown",
   "metadata": {
    "_uuid": "3d63dff8155ae182db6b85a4d26ed11960191cc5"
   },
   "source": [
    "Now, select a random user. I'll select user 1000.\n",
    "\n",
    "(You can change the user number below. HOWEVER - sometimes a user DOESNT exist, so be careful)\n",
    "<img src=\"https://static1.squarespace.com/static/5087cbb1e4b0f16d02a0d011/t/53a435e3e4b07e5a2fce9baf/1403270627196/\" style=\"width: 300px;\"/>"
   ]
  },
  {
   "cell_type": "code",
   "execution_count": null,
   "metadata": {
    "_uuid": "209da7d2e3e2d355bc667ab29ab427572132485f"
   },
   "outputs": [],
   "source": [
    "#_______________CHANGE USER BELOW_________________________\n",
    "user = 1000\n",
    "\n",
    "#Checking______________(DO NOT change below)______________\n",
    "try: x = row(mappings, user);\n",
    "except: print('No user exists');\n",
    "    \n",
    "ds = distances(over_40, x)\n",
    "ds = sort(ds, how = 'ascending')\n",
    "recommendations = row(mappings, index(ds)[0:10])\n",
    "\n",
    "mean_recommendations = col_operation(recommendations, 'mean')\n",
    "count_recommendations = col_operation(recommendations, 'count')\n",
    "log_count_recommendations = log(count_recommendations)\n",
    "\n",
    "score = mean_recommendations*log_count_recommendations\n",
    "score = sort(score, how = 'descending')\n",
    "\n",
    "print(head(score, 10))\n",
    "print('Recommendations are: {}'.format(index(score)[0:10]))"
   ]
  },
  {
   "cell_type": "markdown",
   "metadata": {
    "_uuid": "7467d22671cd8985532f736dd0ecb5df2dcc975b"
   },
   "source": [
    "<a id='Lab'></a>\n",
    "<h1> 5. Lab Questions </h1>\n",
    "\n",
    "\n",
    "<img src=\"https://previews.123rf.com/images/christianchan/christianchan1503/christianchan150300425/37144675--now-it-s-your-turn-note-pinned-on-cork-.jpg\" style=\"width: 300px;\"/>"
   ]
  },
  {
   "cell_type": "markdown",
   "metadata": {
    "_uuid": "02a18e6f952d4312fcce111d5f0ce647f69389a6"
   },
   "source": [
    "(1) Recommend or get **TOP 30 BEST AVERAGE RATED** books to users."
   ]
  },
  {
   "cell_type": "code",
   "execution_count": null,
   "metadata": {
    "_uuid": "bd769a0c60b38f1a6f9f42d06961ce7bc691ea66",
    "collapsed": true
   },
   "outputs": [],
   "source": [
    "average_ratings = col_operation(mappings, 'mean')"
   ]
  },
  {
   "cell_type": "code",
   "execution_count": null,
   "metadata": {
    "_uuid": "beaded463b83fac838a2da272d634a7a8f5b939e"
   },
   "outputs": [],
   "source": [
    "sorted_ratings = sort(average_ratings, how = 'descending')\n",
    "sorted_ratings[0:30]"
   ]
  },
  {
   "cell_type": "markdown",
   "metadata": {
    "_uuid": "a308ff6be7cac93baddcf9ee3a81a46cd5fb5b64"
   },
   "source": [
    "(2) Find which **TOP 100** books have the highest **average rating**. Then, recommend from those top 100 **ANY 30 RANDOM books**."
   ]
  },
  {
   "cell_type": "code",
   "execution_count": null,
   "metadata": {
    "_uuid": "2db470e8195359651eb335bac09f636cb922ff61"
   },
   "outputs": [],
   "source": [
    "top_100 = sorted_ratings[0:100]\n",
    "random(top_100.index, 30)"
   ]
  },
  {
   "cell_type": "markdown",
   "metadata": {
    "_uuid": "314169772f468943a6022710b674dba6c0d51437"
   },
   "source": [
    "Once you are done, and satisfied with your work, let the tutor mark you.\n",
    "\n",
    "Note, if you can't get it, it's fine. Marks are awarded for trying the questions out. We don't mind if the output is wrong.\n",
    "\n",
    "<h2>ASSIGNMENT 1 (week 3 to 5) 7 marks</h2>\n",
    "\n",
    "This night (Friday Week 3), you will receive a Kaggle link to **Assignment 1**. It's worth 7 marks, and super easy :).\n",
    "\n",
    "The stuff you learnt in week 1, 2 and today will be enough to complete Assignment 1 entirely.\n",
    "\n",
    "It's due in 2 weeks time on Saturday week 5 10pm. We need you to submit a URL / LINK to your assignment notebook on Kaggle.\n",
    "\n",
    "IT MUST BE **PUBLIC**. Also, download the Kaggle file, and upload it to Moodle by 10pm Saturday week 5.\n",
    "\n",
    "<h2>TABLEAU</h2>\n",
    "\n",
    "Next week, we will be using **TABLEAU**. Please download it. If you have trouble, please ask us."
   ]
  }
 ],
 "metadata": {
  "kernelspec": {
   "display_name": "Python 3",
   "language": "python",
   "name": "python3"
  },
  "language_info": {
   "codemirror_mode": {
    "name": "ipython",
    "version": 3
   },
   "file_extension": ".py",
   "mimetype": "text/x-python",
   "name": "python",
   "nbconvert_exporter": "python",
   "pygments_lexer": "ipython3",
   "version": "3.7.3"
  }
 },
 "nbformat": 4,
 "nbformat_minor": 1
}
